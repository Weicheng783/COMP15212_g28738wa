{
 "cells": [
  {
   "cell_type": "markdown",
   "metadata": {},
   "source": [
    "# Caching\n",
    "15212-CourseWork-2 from Weicheng Ao"
   ]
  },
  {
   "cell_type": "code",
   "execution_count": 1,
   "metadata": {},
   "outputs": [],
   "source": [
    "from cache import Memory, CyclicCache, LRUCache, RandomCache\n",
    "import random"
   ]
  },
  {
   "cell_type": "markdown",
   "metadata": {},
   "source": [
    "## Experiments\n",
    "Create some test data and run a test"
   ]
  },
  {
   "cell_type": "code",
   "execution_count": 7,
   "metadata": {},
   "outputs": [
    {
     "name": "stdout",
     "output_type": "stream",
     "text": [
      "Memory memory Hits: 9999\n",
      "LRU memory Hits: 3318\n",
      "Cyclic memory Hits: 3324\n",
      "Random memory Hits: 3404\n"
     ]
    }
   ],
   "source": [
    "# test_data = [1,2,3,1,5,1,6,7,8,1,9,2,3,1]\n",
    "test_data = []\n",
    "for i in range(0,9999):\n",
    "    test_data.append(random.randint(0, 5))\n",
    "\n",
    "mem = Memory()\n",
    "lru = LRUCache()\n",
    "cyclic = CyclicCache()\n",
    "rdm = RandomCache()\n",
    "\n",
    "for datum in test_data:\n",
    "    mem.lookup(datum)\n",
    "    \n",
    "print(\"Memory memory Hits:\", mem.get_hit_count())\n",
    "\n",
    "for datum in test_data:\n",
    "    lru.lookup(datum)\n",
    "\n",
    "print(\"LRU memory Hits:\", lru.get_hit_count())\n",
    "\n",
    "for datum in test_data:\n",
    "    cyclic.lookup(datum)\n",
    "\n",
    "print(\"Cyclic memory Hits:\", cyclic.get_hit_count())\n",
    "\n",
    "for datum in test_data:\n",
    "    rdm.lookup(datum)\n",
    "\n",
    "print(\"Random memory Hits:\", rdm.get_hit_count())"
   ]
  },
  {
   "cell_type": "markdown",
   "metadata": {},
   "source": [
    "## Conclusions\n",
    "Both implementations seem to be doing the same thing."
   ]
  },
  {
   "cell_type": "code",
   "execution_count": null,
   "metadata": {},
   "outputs": [],
   "source": []
  }
 ],
 "metadata": {
  "kernelspec": {
   "display_name": "Python 3",
   "language": "python",
   "name": "python3"
  },
  "language_info": {
   "codemirror_mode": {
    "name": "ipython",
    "version": 3
   },
   "file_extension": ".py",
   "mimetype": "text/x-python",
   "name": "python",
   "nbconvert_exporter": "python",
   "pygments_lexer": "ipython3",
   "version": "3.8.5"
  }
 },
 "nbformat": 4,
 "nbformat_minor": 2
}
