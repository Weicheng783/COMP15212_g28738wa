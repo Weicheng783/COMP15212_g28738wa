{
 "cells": [
  {
   "cell_type": "markdown",
   "metadata": {},
   "source": [
    "# Caching Strategies Exploration\n",
    "15212-CourseWork-2 from Weicheng Ao"
   ]
  },
  {
   "cell_type": "code",
   "execution_count": 1,
   "metadata": {},
   "outputs": [],
   "source": [
    "# Basic imports, including the matplotlib graphical library.\n",
    "from cache import Memory, CyclicCache, LRUCache, RandomCache\n",
    "import random\n",
    "import matplotlib.pyplot as plt\n",
    "import pandas as pd\n",
    "cache_size = 4"
   ]
  },
  {
   "cell_type": "markdown",
   "metadata": {},
   "source": [
    "## Experiments\n",
    "We use a range of test cases in this main part, in order to show the performance and relationship between the different caching strategies under various conditions."
   ]
  },
  {
   "cell_type": "code",
   "execution_count": 2,
   "metadata": {},
   "outputs": [],
   "source": [
    "# We define the main test process here.\n",
    "def process():\n",
    "    global memcount,cycliccount,rdmcount,lrucount,results,cache_size\n",
    "    mem = Memory()\n",
    "    lru = LRUCache()\n",
    "    cyclic = CyclicCache()\n",
    "    rdm = RandomCache()\n",
    "\n",
    "    lru.cache_size = cache_size\n",
    "    rdm.cache_size = cache_size\n",
    "    cyclic.cache_size = cache_size\n",
    "\n",
    "    results = []\n",
    "    for datum in test_data:\n",
    "        mem.lookup(datum)\n",
    "#     print(\"Memory memory Hits:\", mem.get_hit_count())\n",
    "    memcount = mem.get_hit_count()\n",
    "    results.append(memcount)\n",
    "    \n",
    "    for datum in test_data:\n",
    "        lru.lookup(datum)\n",
    "#     print(\"LRU memory Hits:\", lru.get_hit_count())\n",
    "    lrucount = lru.get_hit_count()\n",
    "    results.append(lrucount)\n",
    "\n",
    "    for datum in test_data:\n",
    "        cyclic.lookup(datum)\n",
    "#     print(\"Cyclic memory Hits:\", cyclic.get_hit_count())\n",
    "    cycliccount = cyclic.get_hit_count()\n",
    "    results.append(cycliccount)\n",
    "\n",
    "    for datum in test_data:\n",
    "        rdm.lookup(datum)\n",
    "#     print(\"Random memory Hits:\", rdm.get_hit_count())\n",
    "    rdmcount = rdm.get_hit_count()\n",
    "    results.append(rdmcount)"
   ]
  },
  {
   "cell_type": "markdown",
   "metadata": {},
   "source": [
    "<h4>1. Basic Test Cases: Ordered/Unordered Data Points with no duplicate value contained (Every value in the Test Case is unique).</h4>"
   ]
  },
  {
   "cell_type": "code",
   "execution_count": 3,
   "metadata": {},
   "outputs": [
    {
     "name": "stdout",
     "output_type": "stream",
     "text": [
      "Ordered Unique Data Generation\n"
     ]
    },
    {
     "data": {
      "text/html": [
       "<div>\n",
       "<style scoped>\n",
       "    .dataframe tbody tr th:only-of-type {\n",
       "        vertical-align: middle;\n",
       "    }\n",
       "\n",
       "    .dataframe tbody tr th {\n",
       "        vertical-align: top;\n",
       "    }\n",
       "\n",
       "    .dataframe thead th {\n",
       "        text-align: right;\n",
       "    }\n",
       "</style>\n",
       "<table border=\"1\" class=\"dataframe\">\n",
       "  <thead>\n",
       "    <tr style=\"text-align: right;\">\n",
       "      <th></th>\n",
       "      <th>Memory Memory Hits</th>\n",
       "      <th>LRU Memory Hits</th>\n",
       "      <th>Cyclic Memory Hits</th>\n",
       "      <th>Random Memory Hits</th>\n",
       "    </tr>\n",
       "  </thead>\n",
       "  <tbody>\n",
       "    <tr>\n",
       "      <th>0</th>\n",
       "      <td>1000</td>\n",
       "      <td>1000</td>\n",
       "      <td>1000</td>\n",
       "      <td>1000</td>\n",
       "    </tr>\n",
       "  </tbody>\n",
       "</table>\n",
       "</div>"
      ],
      "text/plain": [
       "  Memory Memory Hits LRU Memory Hits Cyclic Memory Hits Random Memory Hits\n",
       "0               1000            1000               1000               1000"
      ]
     },
     "execution_count": 3,
     "metadata": {},
     "output_type": "execute_result"
    }
   ],
   "source": [
    "test_data = []\n",
    "# Ordered Unique Data Generation, from 0 to 999.\n",
    "print(\"Ordered Unique Data Generation\")\n",
    "for i in range(0,1000):\n",
    "    test_data.append(i)\n",
    "process()\n",
    "df = pd.DataFrame(index=[i for i in range(1)], columns=['Memory Memory Hits','LRU Memory Hits','Cyclic Memory Hits','Random Memory Hits'])\n",
    "for i in range(len(df)):\n",
    "    df['Memory Memory Hits'][i]=memcount\n",
    "    df['LRU Memory Hits'][i]=lrucount\n",
    "    df['Cyclic Memory Hits'][i]=cycliccount\n",
    "    df['Random Memory Hits'][i]=rdmcount\n",
    "df"
   ]
  },
  {
   "cell_type": "code",
   "execution_count": 4,
   "metadata": {},
   "outputs": [
    {
     "name": "stdout",
     "output_type": "stream",
     "text": [
      "Unordered Unique Data Generation\n"
     ]
    },
    {
     "data": {
      "text/html": [
       "<div>\n",
       "<style scoped>\n",
       "    .dataframe tbody tr th:only-of-type {\n",
       "        vertical-align: middle;\n",
       "    }\n",
       "\n",
       "    .dataframe tbody tr th {\n",
       "        vertical-align: top;\n",
       "    }\n",
       "\n",
       "    .dataframe thead th {\n",
       "        text-align: right;\n",
       "    }\n",
       "</style>\n",
       "<table border=\"1\" class=\"dataframe\">\n",
       "  <thead>\n",
       "    <tr style=\"text-align: right;\">\n",
       "      <th></th>\n",
       "      <th>Memory Memory Hits</th>\n",
       "      <th>LRU Memory Hits</th>\n",
       "      <th>Cyclic Memory Hits</th>\n",
       "      <th>Random Memory Hits</th>\n",
       "    </tr>\n",
       "  </thead>\n",
       "  <tbody>\n",
       "    <tr>\n",
       "      <th>0</th>\n",
       "      <td>1000</td>\n",
       "      <td>1000</td>\n",
       "      <td>1000</td>\n",
       "      <td>1000</td>\n",
       "    </tr>\n",
       "  </tbody>\n",
       "</table>\n",
       "</div>"
      ],
      "text/plain": [
       "  Memory Memory Hits LRU Memory Hits Cyclic Memory Hits Random Memory Hits\n",
       "0               1000            1000               1000               1000"
      ]
     },
     "execution_count": 4,
     "metadata": {},
     "output_type": "execute_result"
    }
   ],
   "source": [
    "# Unordered Unique Data Generation, from 0 to 999.\n",
    "import random\n",
    "random.shuffle(test_data)\n",
    "\n",
    "print(\"Unordered Unique Data Generation\")\n",
    "process()\n",
    "df = pd.DataFrame(index=[i for i in range(1)], columns=['Memory Memory Hits','LRU Memory Hits','Cyclic Memory Hits','Random Memory Hits'])\n",
    "for i in range(len(df)):\n",
    "    df['Memory Memory Hits'][i]=memcount\n",
    "    df['LRU Memory Hits'][i]=lrucount\n",
    "    df['Cyclic Memory Hits'][i]=cycliccount\n",
    "    df['Random Memory Hits'][i]=rdmcount\n",
    "df"
   ]
  },
  {
   "cell_type": "code",
   "execution_count": 5,
   "metadata": {},
   "outputs": [
    {
     "data": {
      "image/png": "[encoded data removed]",
      "text/plain": [
       "<Figure size 432x288 with 1 Axes>"
      ]
     },
     "metadata": {
      "needs_background": "light"
     },
     "output_type": "display_data"
    }
   ],
   "source": [
    "colours = ['orange','purple','blue','indigo','gray','green','black','pink']\n",
    "# plt.figure(figsize=(19,5))\n",
    "plt.xlabel('<---Strategies--->')\n",
    "plt.ylabel('<---Hit Counts--->')\n",
    "plt.title('Basic Test Case Results reported in Hit Counts')\n",
    "bars = plt.bar(['Memory','Cyclic','Random','LRU'],[memcount,cycliccount,rdmcount,lrucount],label='Hit Counts')\n",
    "for i in range(4):\n",
    "    bars[i].set_color(colours[i])\n",
    "for x,y in zip(['Memory','Cyclic','Random','LRU'],[memcount,cycliccount,rdmcount,lrucount]):\n",
    "    plt.text(x,y,'%.2f' %y, ha='center',va='bottom')"
   ]
  },
  {
   "cell_type": "code",
   "execution_count": 6,
   "metadata": {},
   "outputs": [
    {
     "name": "stdout",
     "output_type": "stream",
     "text": [
      "Cache Size Assumed: 4\n",
      "Unique Data Set Generated: [2, 8, 10, 16] *100\n"
     ]
    },
    {
     "data": {
      "text/html": [
       "<div>\n",
       "<style scoped>\n",
       "    .dataframe tbody tr th:only-of-type {\n",
       "        vertical-align: middle;\n",
       "    }\n",
       "\n",
       "    .dataframe tbody tr th {\n",
       "        vertical-align: top;\n",
       "    }\n",
       "\n",
       "    .dataframe thead th {\n",
       "        text-align: right;\n",
       "    }\n",
       "</style>\n",
       "<table border=\"1\" class=\"dataframe\">\n",
       "  <thead>\n",
       "    <tr style=\"text-align: right;\">\n",
       "      <th></th>\n",
       "      <th>Memory Memory Hits</th>\n",
       "      <th>LRU Memory Hits</th>\n",
       "      <th>Cyclic Memory Hits</th>\n",
       "      <th>Random Memory Hits</th>\n",
       "    </tr>\n",
       "  </thead>\n",
       "  <tbody>\n",
       "    <tr>\n",
       "      <th>0</th>\n",
       "      <td>2404</td>\n",
       "      <td>4</td>\n",
       "      <td>4</td>\n",
       "      <td>4</td>\n",
       "    </tr>\n",
       "  </tbody>\n",
       "</table>\n",
       "</div>"
      ],
      "text/plain": [
       "  Memory Memory Hits LRU Memory Hits Cyclic Memory Hits Random Memory Hits\n",
       "0               2404               4                  4                  4"
      ]
     },
     "execution_count": 6,
     "metadata": {},
     "output_type": "execute_result"
    }
   ],
   "source": [
    "# Generate Unique Test Data according to the cache size N.\n",
    "# For example: If N=4, the number of the test data will be 4, and this\n",
    "#will be repeated 100 times of the same test set of data.\n",
    "# This time I assumed the cache_size of three implementations same.\n",
    "\n",
    "mem = Memory()\n",
    "lru = LRUCache()\n",
    "cyclic = CyclicCache()\n",
    "rdm = RandomCache()\n",
    "\n",
    "print(\"Cache Size Assumed:\", rdm.cache_size)\n",
    "test_data = []\n",
    "temp = lru.cache_size\n",
    "for i in range(0, lru.cache_size):\n",
    "    test_data.append(random.randint(temp-lru.cache_size, temp))\n",
    "    temp = temp + lru.cache_size + 1\n",
    "print(\"Unique Data Set Generated:\",test_data,\"*100\")\n",
    "for i in range(0, 100):\n",
    "    for j in range(0,temp):\n",
    "        test_data.append(test_data[j])\n",
    "\n",
    "import random\n",
    "random.shuffle(test_data)\n",
    "\n",
    "process()\n",
    "df = pd.DataFrame(index=[i for i in range(1)], columns=['Memory Memory Hits','LRU Memory Hits','Cyclic Memory Hits','Random Memory Hits'])\n",
    "for i in range(len(df)):\n",
    "    df['Memory Memory Hits'][i]=memcount\n",
    "    df['LRU Memory Hits'][i]=lrucount\n",
    "    df['Cyclic Memory Hits'][i]=cycliccount\n",
    "    df['Random Memory Hits'][i]=rdmcount\n",
    "df"
   ]
  },
  {
   "cell_type": "code",
   "execution_count": 7,
   "metadata": {},
   "outputs": [
    {
     "data": {
      "image/png": "[encoded data removed]",
      "text/plain": [
       "<Figure size 432x288 with 1 Axes>"
      ]
     },
     "metadata": {
      "needs_background": "light"
     },
     "output_type": "display_data"
    }
   ],
   "source": [
    "plt.title(\"Hit Counts in Different Strategies\")\n",
    "plt.ylabel('Hit Counts')\n",
    "plt.xlabel('Strategies Available')\n",
    "plt.bar(['LRU','Cyclic','Random'],[lrucount,cycliccount,rdmcount], label='Hit Counts',hatch=\"/\",color=\"c\")\n",
    "for x,y in zip(['LRU','Cyclic','Random'],[lrucount,cycliccount,rdmcount]):\n",
    "    plt.text(x,y,'%.2f' %y, ha='center',va='bottom')"
   ]
  },
  {
   "cell_type": "markdown",
   "metadata": {},
   "source": [
    "<p>Case 1 -- Note:</p>\n",
    "<p>For these Basic Test Cases above, we can see that they have the same times of memory accesses, this is because the data points are unique and the number of unique data points is not exceeds the cache size, so that every data needs to be cached at the first time encountered. Once the cached value is found, it needs not to access memory. Hence in these cases all three implementations behave in the same way.</p>"
   ]
  },
  {
   "cell_type": "markdown",
   "metadata": {},
   "source": [
    "<h4>2. The number of unique data points is larger than the cache size.</h4>\n",
    "<p>For example: if the cache size is 4, then the number of unique data points will be larger than 4.</p>"
   ]
  },
  {
   "cell_type": "code",
   "execution_count": 8,
   "metadata": {},
   "outputs": [
    {
     "name": "stdout",
     "output_type": "stream",
     "text": [
      "Cache Size Assumed: 4\n",
      "Unique Data Set Generated: [2, 8, 10, 17, 21] *100\n",
      "Cache Size Assumed: 4\n",
      "Unique Data Set Generated: [0, 6, 14, 19, 22, 29] *100\n",
      "Cache Size Assumed: 4\n",
      "Unique Data Set Generated: [3, 6, 13, 15, 24, 28, 34] *100\n",
      "Cache Size Assumed: 4\n",
      "Unique Data Set Generated: [1, 7, 10, 16, 21, 29, 31, 35] *100\n",
      "Cache Size Assumed: 4\n",
      "Unique Data Set Generated: [1, 8, 12, 19, 23, 28, 34, 39, 44] *100\n",
      "Cache Size Assumed: 4\n",
      "Unique Data Set Generated: [2, 8, 12, 19, 24, 26, 33, 37, 40, 49] *100\n",
      "Cache Size Assumed: 4\n",
      "Unique Data Set Generated: [1, 7, 10, 15, 22, 29, 32, 35, 44, 47, 51] *100\n",
      "Cache Size Assumed: 4\n",
      "Unique Data Set Generated: [3, 9, 14, 16, 23, 27, 34, 36, 44, 48, 50, 59] *100\n",
      "Cache Size Assumed: 4\n",
      "Unique Data Set Generated: [2, 9, 14, 15, 21, 26, 33, 35, 42, 45, 54, 57, 62] *100\n",
      "Cache Size Assumed: 4\n",
      "Unique Data Set Generated: [2, 6, 12, 17, 21, 29, 34, 38, 42, 48, 51, 55, 63, 69] *100\n"
     ]
    },
    {
     "data": {
      "text/html": [
       "<div>\n",
       "<style scoped>\n",
       "    .dataframe tbody tr th:only-of-type {\n",
       "        vertical-align: middle;\n",
       "    }\n",
       "\n",
       "    .dataframe tbody tr th {\n",
       "        vertical-align: top;\n",
       "    }\n",
       "\n",
       "    .dataframe thead th {\n",
       "        text-align: right;\n",
       "    }\n",
       "</style>\n",
       "<table border=\"1\" class=\"dataframe\">\n",
       "  <thead>\n",
       "    <tr style=\"text-align: right;\">\n",
       "      <th></th>\n",
       "      <th>Memory Memory Hits</th>\n",
       "      <th>LRU Memory Hits</th>\n",
       "      <th>Cyclic Memory Hits</th>\n",
       "      <th>Random Memory Hits</th>\n",
       "      <th>Number of unique data points</th>\n",
       "      <th>Data Set Generated</th>\n",
       "    </tr>\n",
       "  </thead>\n",
       "  <tbody>\n",
       "    <tr>\n",
       "      <th>0</th>\n",
       "      <td>3005</td>\n",
       "      <td>3005</td>\n",
       "      <td>3005</td>\n",
       "      <td>1213</td>\n",
       "      <td>5</td>\n",
       "      <td>[2, 8, 10, 17, 21, 2, 8, 10, 17, 21, 2, 8, 10,...</td>\n",
       "    </tr>\n",
       "    <tr>\n",
       "      <th>1</th>\n",
       "      <td>3606</td>\n",
       "      <td>3606</td>\n",
       "      <td>3606</td>\n",
       "      <td>2191</td>\n",
       "      <td>6</td>\n",
       "      <td>[0, 6, 14, 19, 22, 29, 0, 6, 14, 19, 22, 29, 0...</td>\n",
       "    </tr>\n",
       "    <tr>\n",
       "      <th>2</th>\n",
       "      <td>4207</td>\n",
       "      <td>4207</td>\n",
       "      <td>4207</td>\n",
       "      <td>3104</td>\n",
       "      <td>7</td>\n",
       "      <td>[3, 6, 13, 15, 24, 28, 34, 3, 6, 13, 15, 24, 2...</td>\n",
       "    </tr>\n",
       "    <tr>\n",
       "      <th>3</th>\n",
       "      <td>4808</td>\n",
       "      <td>4808</td>\n",
       "      <td>4808</td>\n",
       "      <td>3985</td>\n",
       "      <td>8</td>\n",
       "      <td>[1, 7, 10, 16, 21, 29, 31, 35, 1, 7, 10, 16, 2...</td>\n",
       "    </tr>\n",
       "    <tr>\n",
       "      <th>4</th>\n",
       "      <td>5409</td>\n",
       "      <td>5409</td>\n",
       "      <td>5409</td>\n",
       "      <td>4749</td>\n",
       "      <td>9</td>\n",
       "      <td>[1, 8, 12, 19, 23, 28, 34, 39, 44, 1, 8, 12, 1...</td>\n",
       "    </tr>\n",
       "    <tr>\n",
       "      <th>5</th>\n",
       "      <td>6010</td>\n",
       "      <td>6010</td>\n",
       "      <td>6010</td>\n",
       "      <td>5469</td>\n",
       "      <td>10</td>\n",
       "      <td>[2, 8, 12, 19, 24, 26, 33, 37, 40, 49, 2, 8, 1...</td>\n",
       "    </tr>\n",
       "    <tr>\n",
       "      <th>6</th>\n",
       "      <td>6611</td>\n",
       "      <td>6611</td>\n",
       "      <td>6611</td>\n",
       "      <td>6206</td>\n",
       "      <td>11</td>\n",
       "      <td>[1, 7, 10, 15, 22, 29, 32, 35, 44, 47, 51, 1, ...</td>\n",
       "    </tr>\n",
       "    <tr>\n",
       "      <th>7</th>\n",
       "      <td>7212</td>\n",
       "      <td>7212</td>\n",
       "      <td>7212</td>\n",
       "      <td>6881</td>\n",
       "      <td>12</td>\n",
       "      <td>[3, 9, 14, 16, 23, 27, 34, 36, 44, 48, 50, 59,...</td>\n",
       "    </tr>\n",
       "    <tr>\n",
       "      <th>8</th>\n",
       "      <td>7813</td>\n",
       "      <td>7813</td>\n",
       "      <td>7813</td>\n",
       "      <td>7524</td>\n",
       "      <td>13</td>\n",
       "      <td>[2, 9, 14, 15, 21, 26, 33, 35, 42, 45, 54, 57,...</td>\n",
       "    </tr>\n",
       "    <tr>\n",
       "      <th>9</th>\n",
       "      <td>8414</td>\n",
       "      <td>8414</td>\n",
       "      <td>8414</td>\n",
       "      <td>8210</td>\n",
       "      <td>14</td>\n",
       "      <td>[2, 6, 12, 17, 21, 29, 34, 38, 42, 48, 51, 55,...</td>\n",
       "    </tr>\n",
       "  </tbody>\n",
       "</table>\n",
       "</div>"
      ],
      "text/plain": [
       "  Memory Memory Hits LRU Memory Hits Cyclic Memory Hits Random Memory Hits  \\\n",
       "0               3005            3005               3005               1213   \n",
       "1               3606            3606               3606               2191   \n",
       "2               4207            4207               4207               3104   \n",
       "3               4808            4808               4808               3985   \n",
       "4               5409            5409               5409               4749   \n",
       "5               6010            6010               6010               5469   \n",
       "6               6611            6611               6611               6206   \n",
       "7               7212            7212               7212               6881   \n",
       "8               7813            7813               7813               7524   \n",
       "9               8414            8414               8414               8210   \n",
       "\n",
       "  Number of unique data points  \\\n",
       "0                            5   \n",
       "1                            6   \n",
       "2                            7   \n",
       "3                            8   \n",
       "4                            9   \n",
       "5                           10   \n",
       "6                           11   \n",
       "7                           12   \n",
       "8                           13   \n",
       "9                           14   \n",
       "\n",
       "                                  Data Set Generated  \n",
       "0  [2, 8, 10, 17, 21, 2, 8, 10, 17, 21, 2, 8, 10,...  \n",
       "1  [0, 6, 14, 19, 22, 29, 0, 6, 14, 19, 22, 29, 0...  \n",
       "2  [3, 6, 13, 15, 24, 28, 34, 3, 6, 13, 15, 24, 2...  \n",
       "3  [1, 7, 10, 16, 21, 29, 31, 35, 1, 7, 10, 16, 2...  \n",
       "4  [1, 8, 12, 19, 23, 28, 34, 39, 44, 1, 8, 12, 1...  \n",
       "5  [2, 8, 12, 19, 24, 26, 33, 37, 40, 49, 2, 8, 1...  \n",
       "6  [1, 7, 10, 15, 22, 29, 32, 35, 44, 47, 51, 1, ...  \n",
       "7  [3, 9, 14, 16, 23, 27, 34, 36, 44, 48, 50, 59,...  \n",
       "8  [2, 9, 14, 15, 21, 26, 33, 35, 42, 45, 54, 57,...  \n",
       "9  [2, 6, 12, 17, 21, 29, 34, 38, 42, 48, 51, 55,...  "
      ]
     },
     "execution_count": 8,
     "metadata": {},
     "output_type": "execute_result"
    }
   ],
   "source": [
    "# Test Data Generation\n",
    "# We generated 5 unique data points and appended these values 100 times to a list called test_data.\n",
    "mem = Memory()\n",
    "lru = LRUCache()\n",
    "cyclic = CyclicCache()\n",
    "rdm = RandomCache()\n",
    "mem_results = []\n",
    "lru_results = []\n",
    "cyclic_results = []\n",
    "rdm_results = []\n",
    "\n",
    "# I used a range of the number of unique data points, in this case, from 5 to 14 unique values.\n",
    "df = pd.DataFrame(index=[i for i in range(10)], columns=['Memory Memory Hits','LRU Memory Hits','Cyclic Memory Hits','Random Memory Hits','Number of unique data points','Data Set Generated'])\n",
    "for k in range(1,11): \n",
    "    print(\"Cache Size Assumed:\", rdm.cache_size)\n",
    "    test_data = []\n",
    "    temp = lru.cache_size\n",
    "    for i in range(0, lru.cache_size + k):\n",
    "        # This code snippet in this for loop is for generating unique values.\n",
    "        test_data.append(random.randint(temp-lru.cache_size, temp))\n",
    "        temp = temp + lru.cache_size + 1\n",
    "    df['Data Set Generated'][k-1]=test_data\n",
    "    print(\"Unique Data Set Generated:\",test_data,\"*100\")\n",
    "    for i in range(0, 100):\n",
    "        for j in range(0,temp+k):\n",
    "            test_data.append(test_data[j])\n",
    "    process()\n",
    "    df['Memory Memory Hits'][k-1]=memcount\n",
    "    df['LRU Memory Hits'][k-1]=lrucount\n",
    "    df['Cyclic Memory Hits'][k-1]=cycliccount\n",
    "    df['Random Memory Hits'][k-1]=rdmcount\n",
    "\n",
    "    df['Number of unique data points'][k-1]=lru.cache_size + k\n",
    "\n",
    "    mem_results.append(results[0])\n",
    "    lru_results.append(results[1])\n",
    "    cyclic_results.append(results[2])\n",
    "    rdm_results.append(results[3])\n",
    "df"
   ]
  },
  {
   "cell_type": "code",
   "execution_count": 9,
   "metadata": {},
   "outputs": [
    {
     "data": {
      "text/plain": [
       "<matplotlib.legend.Legend at 0x7f170c5ce700>"
      ]
     },
     "execution_count": 9,
     "metadata": {},
     "output_type": "execute_result"
    },
    {
     "data": {
      "image/png": "[encoded data removed]",
      "text/plain": [
       "<Figure size 720x288 with 1 Axes>"
      ]
     },
     "metadata": {
      "needs_background": "light"
     },
     "output_type": "display_data"
    }
   ],
   "source": [
    "# Graphical Representation of these results above.\n",
    "plt.figure('Trends', figsize=(10,4))\n",
    "plt.title(\"Hit Counts' Changes about Different Strategies\")\n",
    "plt.ylabel('Hit Counts')\n",
    "plt.xlabel('Increment in the Number of Unique Data Points (Originally 4)')\n",
    "plt.plot(lru_results, label='LRU', marker='o',markersize='11')\n",
    "plt.plot(mem_results, label='Memory', marker='o',markersize='11')\n",
    "plt.plot(rdm_results, label='Random', marker='o',markersize='11')\n",
    "plt.plot(cyclic_results, label='Cyclic', marker='o',markersize='11')\n",
    "plt.legend(loc='upper left')"
   ]
  },
  {
   "cell_type": "markdown",
   "metadata": {},
   "source": [
    "<p>Case 2 -- Note:</p>\n",
    "<p>As you can see above, LRU and Cyclic strategies are performed in a same way, as each data point used is only once. For the LRU strategy, it needs to write to cache every time after the fifth value (in the case of the cache size is 4) encountered, but it loses the first value added which also needs an extra memory access if the next value is actually the last value just lost. For the Cyclic strategy, it will be the same as the next value encountered is the last value lost, that is bad in terms of memory accessing.</p>\n",
    "<p>Interestingly, the Random strategy behaves very well in the first case, it only accessed the memory about one third (1/3) time of the other two strategies. I think this is because the order of value accessing which is random accessing, takes a big advantage and is not restricted to the accessing order.</p>\n",
    "<p>However, when the unique data points becomes large, the advantage of the Random strategy is reduced sharply first and then gradually diminished as shown in the graph above, we can see that the difference between the green line(refers to the Random strategy) and the other lines, gradually decreases when the data set becomes large and finally no difference at all at some point. In other words, they are converged finally.</p>"
   ]
  },
  {
   "cell_type": "markdown",
   "metadata": {},
   "source": [
    "<h4>3. New unique value added just after a cached value used (in LRU case, it is read.) and After this, the Data Points between the second and the new added value are repeated several times.</h4>\n",
    "<p>For example: if the cache size is 4, then the data set is like [0,1,2,3,0,4,1,2,3,0,4,1,2,3,0,4,...] (the part of repetition is '1,2,3,0,4' in this case.) or more data points available, I mean that I intentionally repeat the cached value just before a new value comes, this means I want to explore the performances in case that LRU functionality is used, but I do not know the other two implementations yet.</p>"
   ]
  },
  {
   "cell_type": "code",
   "execution_count": 10,
   "metadata": {},
   "outputs": [
    {
     "name": "stdout",
     "output_type": "stream",
     "text": [
      "Cache Size Selected: 4\n"
     ]
    },
    {
     "data": {
      "text/html": [
       "<div>\n",
       "<style scoped>\n",
       "    .dataframe tbody tr th:only-of-type {\n",
       "        vertical-align: middle;\n",
       "    }\n",
       "\n",
       "    .dataframe tbody tr th {\n",
       "        vertical-align: top;\n",
       "    }\n",
       "\n",
       "    .dataframe thead th {\n",
       "        text-align: right;\n",
       "    }\n",
       "</style>\n",
       "<table border=\"1\" class=\"dataframe\">\n",
       "  <thead>\n",
       "    <tr style=\"text-align: right;\">\n",
       "      <th></th>\n",
       "      <th>Memory Memory Hits</th>\n",
       "      <th>LRU Memory Hits</th>\n",
       "      <th>Cyclic Memory Hits</th>\n",
       "      <th>Random Memory Hits</th>\n",
       "    </tr>\n",
       "  </thead>\n",
       "  <tbody>\n",
       "    <tr>\n",
       "      <th>0</th>\n",
       "      <td>6</td>\n",
       "      <td>5</td>\n",
       "      <td>5</td>\n",
       "      <td>5</td>\n",
       "    </tr>\n",
       "    <tr>\n",
       "      <th>1</th>\n",
       "      <td>11</td>\n",
       "      <td>10</td>\n",
       "      <td>6</td>\n",
       "      <td>6</td>\n",
       "    </tr>\n",
       "    <tr>\n",
       "      <th>2</th>\n",
       "      <td>16</td>\n",
       "      <td>15</td>\n",
       "      <td>10</td>\n",
       "      <td>9</td>\n",
       "    </tr>\n",
       "    <tr>\n",
       "      <th>3</th>\n",
       "      <td>21</td>\n",
       "      <td>20</td>\n",
       "      <td>11</td>\n",
       "      <td>13</td>\n",
       "    </tr>\n",
       "    <tr>\n",
       "      <th>4</th>\n",
       "      <td>26</td>\n",
       "      <td>25</td>\n",
       "      <td>15</td>\n",
       "      <td>13</td>\n",
       "    </tr>\n",
       "    <tr>\n",
       "      <th>5</th>\n",
       "      <td>31</td>\n",
       "      <td>30</td>\n",
       "      <td>16</td>\n",
       "      <td>19</td>\n",
       "    </tr>\n",
       "    <tr>\n",
       "      <th>6</th>\n",
       "      <td>36</td>\n",
       "      <td>35</td>\n",
       "      <td>20</td>\n",
       "      <td>16</td>\n",
       "    </tr>\n",
       "    <tr>\n",
       "      <th>7</th>\n",
       "      <td>41</td>\n",
       "      <td>40</td>\n",
       "      <td>21</td>\n",
       "      <td>20</td>\n",
       "    </tr>\n",
       "    <tr>\n",
       "      <th>8</th>\n",
       "      <td>46</td>\n",
       "      <td>45</td>\n",
       "      <td>25</td>\n",
       "      <td>19</td>\n",
       "    </tr>\n",
       "    <tr>\n",
       "      <th>9</th>\n",
       "      <td>51</td>\n",
       "      <td>50</td>\n",
       "      <td>26</td>\n",
       "      <td>24</td>\n",
       "    </tr>\n",
       "  </tbody>\n",
       "</table>\n",
       "</div>"
      ],
      "text/plain": [
       "  Memory Memory Hits LRU Memory Hits Cyclic Memory Hits Random Memory Hits\n",
       "0                  6               5                  5                  5\n",
       "1                 11              10                  6                  6\n",
       "2                 16              15                 10                  9\n",
       "3                 21              20                 11                 13\n",
       "4                 26              25                 15                 13\n",
       "5                 31              30                 16                 19\n",
       "6                 36              35                 20                 16\n",
       "7                 41              40                 21                 20\n",
       "8                 46              45                 25                 19\n",
       "9                 51              50                 26                 24"
      ]
     },
     "execution_count": 10,
     "metadata": {},
     "output_type": "execute_result"
    }
   ],
   "source": [
    "mem = Memory()\n",
    "lru = LRUCache()\n",
    "cyclic = CyclicCache()\n",
    "rdm = RandomCache()\n",
    "mem_results = []\n",
    "lru_results = []\n",
    "cyclic_results = []\n",
    "rdm_results = []\n",
    "\n",
    "# I used a range of the number of unique data points, in this case, from 5 to 14 repeated set of values.\n",
    "print(\"Cache Size Selected:\", rdm.cache_size)\n",
    "\n",
    "df = pd.DataFrame(index=[i for i in range(10)], columns=['Memory Memory Hits','LRU Memory Hits','Cyclic Memory Hits','Random Memory Hits'])\n",
    "for k in range(1,11):\n",
    "    test_data = []\n",
    "    for i in range(0,rdm.cache_size):\n",
    "        test_data.append(i)\n",
    "    test_data.append(test_data[0])\n",
    "    test_data.append(i+1)\n",
    "    for j in range(1,k):\n",
    "        for i in range(1,rdm.cache_size+2):\n",
    "            test_data.append(test_data[i])\n",
    "    process()\n",
    "    df['Memory Memory Hits'][k-1]=memcount\n",
    "    df['LRU Memory Hits'][k-1]=lrucount\n",
    "    df['Cyclic Memory Hits'][k-1]=cycliccount\n",
    "    df['Random Memory Hits'][k-1]=rdmcount\n",
    "\n",
    "    mem_results.append(results[0])\n",
    "    lru_results.append(results[1])\n",
    "    cyclic_results.append(results[2])\n",
    "    rdm_results.append(results[3])\n",
    "# print(test_data)\n",
    "df"
   ]
  },
  {
   "cell_type": "code",
   "execution_count": 11,
   "metadata": {},
   "outputs": [
    {
     "data": {
      "text/plain": [
       "<matplotlib.legend.Legend at 0x7f170c599c40>"
      ]
     },
     "execution_count": 11,
     "metadata": {},
     "output_type": "execute_result"
    },
    {
     "data": {
      "image/png": "[encoded data removed]",
      "text/plain": [
       "<Figure size 720x288 with 1 Axes>"
      ]
     },
     "metadata": {
      "needs_background": "light"
     },
     "output_type": "display_data"
    }
   ],
   "source": [
    "# Graphical Representation of these results above.\n",
    "plt.figure('Trends', figsize=(10,4))\n",
    "plt.title(\"Hit Counts' Changes about Different Strategies\")\n",
    "plt.ylabel('Hit Counts')\n",
    "plt.xlabel('Increment Sizes of Data Set')\n",
    "plt.plot(lru_results, label='LRU', marker='o',markersize='11')\n",
    "plt.plot(mem_results, label='Memory', marker='o',markersize='11')\n",
    "plt.plot(rdm_results, label='Random', marker='o',markersize='11')\n",
    "plt.plot(cyclic_results, label='Cyclic', marker='o',markersize='11')\n",
    "plt.legend(loc='upper left')"
   ]
  },
  {
   "cell_type": "markdown",
   "metadata": {},
   "source": [
    "<p>Case 3 -- Note:</p>\n",
    "<p>As you can see in the line graph above, the method 'New unique value added just after a cached value used' influences the behaviours of these strategies greatly. In this case, the Random and Cyclic strategies performed in a similar way but the LRU and Memory strategies behave in the similar way. The difference of the Memory Hit Counts becomes larger and larger and the LRU hit counts is approximately 2 times as large as the Cyclic and Random hit counts in any set of data points.</p>\n",
    "<p>This is because the Cyclic strategy rewrites the cache in a cyclic way and not consider the least recently used value, this is particularly useful when the next value is in the cache and not thrown away as LRU strategy does(in this case LRU has to use an additional memory hit as it needs to look-up its address.).</p>\n",
    "<p>Besides, I think the Random strategy is performed slightly better than the Cyclic strategy in terms of memory accessing, this might because the Random strategy accessed the memory in a random way, this is particularly useful when the data set is large and there are large data points repeated. And not restrict in an ordered way.</p>"
   ]
  },
  {
   "cell_type": "markdown",
   "metadata": {},
   "source": [
    "<h4>4. All data points generated in a random way, in a random fashion, no human control applied. New data points are appended to the old large data set recursively. Note, in this case I also keep the cache size unaltered, it is 4 as usual.</h4>"
   ]
  },
  {
   "cell_type": "code",
   "execution_count": 12,
   "metadata": {},
   "outputs": [
    {
     "data": {
      "text/html": [
       "<div>\n",
       "<style scoped>\n",
       "    .dataframe tbody tr th:only-of-type {\n",
       "        vertical-align: middle;\n",
       "    }\n",
       "\n",
       "    .dataframe tbody tr th {\n",
       "        vertical-align: top;\n",
       "    }\n",
       "\n",
       "    .dataframe thead th {\n",
       "        text-align: right;\n",
       "    }\n",
       "</style>\n",
       "<table border=\"1\" class=\"dataframe\">\n",
       "  <thead>\n",
       "    <tr style=\"text-align: right;\">\n",
       "      <th></th>\n",
       "      <th>Memory Memory Hits</th>\n",
       "      <th>LRU Memory Hits</th>\n",
       "      <th>Cyclic Memory Hits</th>\n",
       "      <th>Random Memory Hits</th>\n",
       "    </tr>\n",
       "  </thead>\n",
       "  <tbody>\n",
       "    <tr>\n",
       "      <th>0</th>\n",
       "      <td>9999</td>\n",
       "      <td>4270</td>\n",
       "      <td>4253</td>\n",
       "      <td>4305</td>\n",
       "    </tr>\n",
       "    <tr>\n",
       "      <th>1</th>\n",
       "      <td>19998</td>\n",
       "      <td>8561</td>\n",
       "      <td>8494</td>\n",
       "      <td>8552</td>\n",
       "    </tr>\n",
       "    <tr>\n",
       "      <th>2</th>\n",
       "      <td>29997</td>\n",
       "      <td>12882</td>\n",
       "      <td>12761</td>\n",
       "      <td>12857</td>\n",
       "    </tr>\n",
       "    <tr>\n",
       "      <th>3</th>\n",
       "      <td>39996</td>\n",
       "      <td>17133</td>\n",
       "      <td>17072</td>\n",
       "      <td>17006</td>\n",
       "    </tr>\n",
       "    <tr>\n",
       "      <th>4</th>\n",
       "      <td>49995</td>\n",
       "      <td>21485</td>\n",
       "      <td>21379</td>\n",
       "      <td>21264</td>\n",
       "    </tr>\n",
       "    <tr>\n",
       "      <th>5</th>\n",
       "      <td>59994</td>\n",
       "      <td>25849</td>\n",
       "      <td>25728</td>\n",
       "      <td>25643</td>\n",
       "    </tr>\n",
       "    <tr>\n",
       "      <th>6</th>\n",
       "      <td>69993</td>\n",
       "      <td>30132</td>\n",
       "      <td>29990</td>\n",
       "      <td>29835</td>\n",
       "    </tr>\n",
       "    <tr>\n",
       "      <th>7</th>\n",
       "      <td>79992</td>\n",
       "      <td>34373</td>\n",
       "      <td>34224</td>\n",
       "      <td>34280</td>\n",
       "    </tr>\n",
       "    <tr>\n",
       "      <th>8</th>\n",
       "      <td>89991</td>\n",
       "      <td>38655</td>\n",
       "      <td>38468</td>\n",
       "      <td>38591</td>\n",
       "    </tr>\n",
       "    <tr>\n",
       "      <th>9</th>\n",
       "      <td>99990</td>\n",
       "      <td>42846</td>\n",
       "      <td>42714</td>\n",
       "      <td>42919</td>\n",
       "    </tr>\n",
       "  </tbody>\n",
       "</table>\n",
       "</div>"
      ],
      "text/plain": [
       "  Memory Memory Hits LRU Memory Hits Cyclic Memory Hits Random Memory Hits\n",
       "0               9999            4270               4253               4305\n",
       "1              19998            8561               8494               8552\n",
       "2              29997           12882              12761              12857\n",
       "3              39996           17133              17072              17006\n",
       "4              49995           21485              21379              21264\n",
       "5              59994           25849              25728              25643\n",
       "6              69993           30132              29990              29835\n",
       "7              79992           34373              34224              34280\n",
       "8              89991           38655              38468              38591\n",
       "9              99990           42846              42714              42919"
      ]
     },
     "execution_count": 12,
     "metadata": {},
     "output_type": "execute_result"
    }
   ],
   "source": [
    "# test_data = [1,2,3,1,5,1,6,7,8,1,9,2,3,1]\n",
    "mem = Memory()\n",
    "lru = LRUCache()\n",
    "cyclic = CyclicCache()\n",
    "rdm = RandomCache()\n",
    "mem_results = []\n",
    "lru_results = []\n",
    "cyclic_results = []\n",
    "rdm_results = []\n",
    "test_data = []\n",
    "\n",
    "# New data points are appended to the old large data set recursively.\n",
    "# Note, in this case I also keep the cache size unaltered, it is 4 as usual.\n",
    "df = pd.DataFrame(index=[i for i in range(10)], columns=['Memory Memory Hits','LRU Memory Hits','Cyclic Memory Hits','Random Memory Hits'])\n",
    "for j in range(0,10):\n",
    "    # New data points are appended to the old large data set recursively.\n",
    "    for i in range(0,9999):\n",
    "        # All data points generated in a random way, in a random fashion, no human control applied.\n",
    "        test_data.append(random.randint(0, 6))\n",
    "    process()\n",
    "    df['Memory Memory Hits'][j]=memcount\n",
    "    df['LRU Memory Hits'][j]=lrucount\n",
    "    df['Cyclic Memory Hits'][j]=cycliccount\n",
    "    df['Random Memory Hits'][j]=rdmcount\n",
    "\n",
    "    mem_results.append(results[0])\n",
    "    lru_results.append(results[1])\n",
    "    cyclic_results.append(results[2])\n",
    "    rdm_results.append(results[3])\n",
    "df"
   ]
  },
  {
   "cell_type": "code",
   "execution_count": 13,
   "metadata": {},
   "outputs": [
    {
     "data": {
      "text/plain": [
       "<matplotlib.legend.Legend at 0x7f170c50c3a0>"
      ]
     },
     "execution_count": 13,
     "metadata": {},
     "output_type": "execute_result"
    },
    {
     "data": {
      "image/png": "[encoded data removed]",
      "text/plain": [
       "<Figure size 720x288 with 1 Axes>"
      ]
     },
     "metadata": {
      "needs_background": "light"
     },
     "output_type": "display_data"
    }
   ],
   "source": [
    "# Graphical Representation of these results above.\n",
    "plt.figure('Trends', figsize=(10,4))\n",
    "plt.title(\"Hit Counts' Changes about Different Strategies\")\n",
    "plt.ylabel('Hit Counts')\n",
    "plt.xlabel('Increment about Sizes of Data Set')\n",
    "plt.plot(lru_results, label='LRU', marker='o',markersize='11')\n",
    "plt.plot(mem_results, label='Memory', marker='o',markersize='11')\n",
    "plt.plot(rdm_results, label='Random', marker='o',markersize='11')\n",
    "plt.plot(cyclic_results, label='Cyclic', marker='o',markersize='11')\n",
    "plt.legend(loc='upper left')"
   ]
  },
  {
   "cell_type": "markdown",
   "metadata": {},
   "source": [
    "<p>Case 4 -- Note:</p>\n",
    "<p>In a generated random data pool, three main memory accessing strategies behave in a closed similar way, the memory strategy(no strategy at all), indicates the total number of data points in this data set. We can see that all three main strategies have their own ways in reducing the memory accesses, so no strategy surpass the other ones as we see in the graph above. But their performances have little difference in terms of memory accessing as you may notice that three lines coincide each other. The line graph just below is a simplified version of the above diagram which only consists of LRU, Random and Cyclic strategies.</p>"
   ]
  },
  {
   "cell_type": "code",
   "execution_count": 14,
   "metadata": {},
   "outputs": [
    {
     "data": {
      "text/plain": [
       "<matplotlib.legend.Legend at 0x7f170c48a4c0>"
      ]
     },
     "execution_count": 14,
     "metadata": {},
     "output_type": "execute_result"
    },
    {
     "data": {
      "image/png": "[encoded data removed]",
      "text/plain": [
       "<Figure size 720x288 with 1 Axes>"
      ]
     },
     "metadata": {
      "needs_background": "light"
     },
     "output_type": "display_data"
    }
   ],
   "source": [
    "plt.figure('Trends', figsize=(10,4))\n",
    "plt.title(\"Hit Counts' Changes about Different Strategies (LRU,Random,Cyclic)\")\n",
    "plt.ylabel('Hit Counts')\n",
    "plt.xlabel('Increment about Sizes of Data Set')\n",
    "plt.plot(lru_results, label='LRU', marker='o',markersize='11')\n",
    "plt.plot(rdm_results, label='Random', marker='o',markersize='11')\n",
    "plt.plot(cyclic_results, label='Cyclic', marker='o',markersize='11')\n",
    "plt.legend(loc='upper left')"
   ]
  },
  {
   "cell_type": "markdown",
   "metadata": {},
   "source": [
    "<h4>5. Changed the Cache Size and all data points generated in a random way, in a random fashion. As opposed to the Case 4 above which the Cache Size is fixed to four.</h4>"
   ]
  },
  {
   "cell_type": "code",
   "execution_count": 19,
   "metadata": {},
   "outputs": [
    {
     "name": "stdout",
     "output_type": "stream",
     "text": [
      "Constant: The Data Set used is the same thoughout this experiment. Variable: the Cache Size.\n"
     ]
    },
    {
     "data": {
      "text/html": [
       "<div>\n",
       "<style scoped>\n",
       "    .dataframe tbody tr th:only-of-type {\n",
       "        vertical-align: middle;\n",
       "    }\n",
       "\n",
       "    .dataframe tbody tr th {\n",
       "        vertical-align: top;\n",
       "    }\n",
       "\n",
       "    .dataframe thead th {\n",
       "        text-align: right;\n",
       "    }\n",
       "</style>\n",
       "<table border=\"1\" class=\"dataframe\">\n",
       "  <thead>\n",
       "    <tr style=\"text-align: right;\">\n",
       "      <th></th>\n",
       "      <th>Cache Size</th>\n",
       "      <th>Memory Memory Hits</th>\n",
       "      <th>LRU Memory Hits</th>\n",
       "      <th>Cyclic Memory Hits</th>\n",
       "      <th>Random Memory Hits</th>\n",
       "    </tr>\n",
       "  </thead>\n",
       "  <tbody>\n",
       "    <tr>\n",
       "      <th>0</th>\n",
       "      <td>4</td>\n",
       "      <td>9999</td>\n",
       "      <td>9993</td>\n",
       "      <td>9993</td>\n",
       "      <td>9994</td>\n",
       "    </tr>\n",
       "    <tr>\n",
       "      <th>1</th>\n",
       "      <td>5</td>\n",
       "      <td>9999</td>\n",
       "      <td>9993</td>\n",
       "      <td>9993</td>\n",
       "      <td>9993</td>\n",
       "    </tr>\n",
       "    <tr>\n",
       "      <th>2</th>\n",
       "      <td>6</td>\n",
       "      <td>9999</td>\n",
       "      <td>9992</td>\n",
       "      <td>9993</td>\n",
       "      <td>9990</td>\n",
       "    </tr>\n",
       "    <tr>\n",
       "      <th>3</th>\n",
       "      <td>7</td>\n",
       "      <td>9999</td>\n",
       "      <td>9990</td>\n",
       "      <td>9993</td>\n",
       "      <td>9990</td>\n",
       "    </tr>\n",
       "    <tr>\n",
       "      <th>4</th>\n",
       "      <td>8</td>\n",
       "      <td>9999</td>\n",
       "      <td>9990</td>\n",
       "      <td>9993</td>\n",
       "      <td>9988</td>\n",
       "    </tr>\n",
       "    <tr>\n",
       "      <th>5</th>\n",
       "      <td>9</td>\n",
       "      <td>9999</td>\n",
       "      <td>9989</td>\n",
       "      <td>9993</td>\n",
       "      <td>9986</td>\n",
       "    </tr>\n",
       "    <tr>\n",
       "      <th>6</th>\n",
       "      <td>10</td>\n",
       "      <td>9999</td>\n",
       "      <td>9987</td>\n",
       "      <td>9993</td>\n",
       "      <td>9987</td>\n",
       "    </tr>\n",
       "    <tr>\n",
       "      <th>7</th>\n",
       "      <td>11</td>\n",
       "      <td>9999</td>\n",
       "      <td>9985</td>\n",
       "      <td>9993</td>\n",
       "      <td>9988</td>\n",
       "    </tr>\n",
       "    <tr>\n",
       "      <th>8</th>\n",
       "      <td>12</td>\n",
       "      <td>9999</td>\n",
       "      <td>9985</td>\n",
       "      <td>9993</td>\n",
       "      <td>9985</td>\n",
       "    </tr>\n",
       "    <tr>\n",
       "      <th>9</th>\n",
       "      <td>13</td>\n",
       "      <td>9999</td>\n",
       "      <td>9985</td>\n",
       "      <td>9993</td>\n",
       "      <td>9987</td>\n",
       "    </tr>\n",
       "  </tbody>\n",
       "</table>\n",
       "</div>"
      ],
      "text/plain": [
       "  Cache Size Memory Memory Hits LRU Memory Hits Cyclic Memory Hits  \\\n",
       "0          4               9999            9993               9993   \n",
       "1          5               9999            9993               9993   \n",
       "2          6               9999            9992               9993   \n",
       "3          7               9999            9990               9993   \n",
       "4          8               9999            9990               9993   \n",
       "5          9               9999            9989               9993   \n",
       "6         10               9999            9987               9993   \n",
       "7         11               9999            9985               9993   \n",
       "8         12               9999            9985               9993   \n",
       "9         13               9999            9985               9993   \n",
       "\n",
       "  Random Memory Hits  \n",
       "0               9994  \n",
       "1               9993  \n",
       "2               9990  \n",
       "3               9990  \n",
       "4               9988  \n",
       "5               9986  \n",
       "6               9987  \n",
       "7               9988  \n",
       "8               9985  \n",
       "9               9987  "
      ]
     },
     "execution_count": 19,
     "metadata": {},
     "output_type": "execute_result"
    }
   ],
   "source": [
    "mem = Memory()\n",
    "lru = LRUCache()\n",
    "cyclic = CyclicCache()\n",
    "rdm = RandomCache()\n",
    "mem_results = []\n",
    "lru_results = []\n",
    "cyclic_results = []\n",
    "rdm_results = []\n",
    "test_data = []\n",
    "\n",
    "\n",
    "for i in range(0,9999):\n",
    "    # All data points generated in a random way, in a random fashion, no human control applied.\n",
    "    test_data.append(random.randint(0, 9999))\n",
    "\n",
    "df = pd.DataFrame(index=[i for i in range(10)], columns=['Cache Size','Memory Memory Hits','LRU Memory Hits','Cyclic Memory Hits','Random Memory Hits'])\n",
    "# New data points are appended to the old large data set recursively.\n",
    "for j in range(0,10):\n",
    "    # New data points are appended to the old large data set recursively.\n",
    "    cache_size=4+j\n",
    "    process()\n",
    "    df['Memory Memory Hits'][j]=memcount\n",
    "    df['LRU Memory Hits'][j]=lrucount\n",
    "    df['Cyclic Memory Hits'][j]=cycliccount\n",
    "    df['Random Memory Hits'][j]=rdmcount\n",
    "    df['Cache Size'][j]=cache_size\n",
    "\n",
    "    mem_results.append(results[0])\n",
    "    lru_results.append(results[1])\n",
    "    cyclic_results.append(results[2])\n",
    "    rdm_results.append(results[3])\n",
    "print(\"Constant: The Data Set used is the same thoughout this experiment. Variable: the Cache Size.\")\n",
    "df\n",
    "# Note, in this case I increment the cache size by one each time, from 4 onwards."
   ]
  },
  {
   "cell_type": "code",
   "execution_count": 20,
   "metadata": {},
   "outputs": [
    {
     "data": {
      "text/plain": [
       "<matplotlib.legend.Legend at 0x7f170c650040>"
      ]
     },
     "execution_count": 20,
     "metadata": {},
     "output_type": "execute_result"
    },
    {
     "data": {
      "image/png": "[encoded data removed]",
      "text/plain": [
       "<Figure size 720x288 with 1 Axes>"
      ]
     },
     "metadata": {
      "needs_background": "light"
     },
     "output_type": "display_data"
    }
   ],
   "source": [
    "# Graphical Representation of these results above.\n",
    "plt.figure('Trends', figsize=(10,4))\n",
    "plt.title(\"Hit Counts' Changes about Different Strategies\")\n",
    "plt.ylabel('Hit Counts')\n",
    "plt.xlabel('Increment of Cache Size')\n",
    "plt.plot(lru_results, label='LRU', marker='o',markersize='11')\n",
    "plt.plot(mem_results, label='Memory', marker='o',markersize='11')\n",
    "plt.plot(rdm_results, label='Random', marker='o',markersize='11')\n",
    "plt.plot(cyclic_results, label='Cyclic', marker='o',markersize='11')\n",
    "plt.legend(loc='lower left')"
   ]
  },
  {
   "cell_type": "markdown",
   "metadata": {},
   "source": [
    "<p>Case 5 -- Note:</p>\n",
    "<p>In this case (case 5), I adjusted the cache size from 4 to 13 and generated the line trending graph above. And keep the data set unchanged once it has generated, but the possible number of the unique values is set to 9999, which means the data is much more diverse than case four (case 4) where I set this value to 6.</p>\n",
    "<p>Some general remarks, all three main strategies have an impact in reducing the memory accessing by using a cache but it is quite small, the Cyclic strategy has a constant performance throughout this data set model. The other two, Random and LRU, they have a better performance once the cache size increased, but the effect is quite small as it only reduces the hit counts by a small amount, this is shown in the graph above.</p>"
   ]
  },
  {
   "cell_type": "markdown",
   "metadata": {},
   "source": [
    "## Conclusions"
   ]
  },
  {
   "cell_type": "markdown",
   "metadata": {},
   "source": [
    "To sum up, LRU, Cyclic and Random strategies all have their own logic to reduce the memory accesses and the way to store values in their cache. According to the experiments conducted above, when all the values in a dataset are unique and the number of values is not exceeds the cache size, these strategies are all performed in the same way, the memory access is the number of unique values in the dataset."
   ]
  },
  {
   "cell_type": "code",
   "execution_count": null,
   "metadata": {},
   "outputs": [],
   "source": []
  }
 ],
 "metadata": {
  "kernelspec": {
   "display_name": "Python 3",
   "language": "python",
   "name": "python3"
  },
  "language_info": {
   "codemirror_mode": {
    "name": "ipython",
    "version": 3
   },
   "file_extension": ".py",
   "mimetype": "text/x-python",
   "name": "python",
   "nbconvert_exporter": "python",
   "pygments_lexer": "ipython3",
   "version": "3.8.5"
  }
 },
 "nbformat": 4,
 "nbformat_minor": 2
}
