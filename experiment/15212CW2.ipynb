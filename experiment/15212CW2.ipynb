{
 "cells": [
  {
   "cell_type": "markdown",
   "metadata": {},
   "source": [
    "# Caching Strategies Exploration\n",
    "15212-CourseWork-2 from Weicheng Ao"
   ]
  },
  {
   "cell_type": "code",
   "execution_count": 1,
   "metadata": {},
   "outputs": [],
   "source": [
    "from cache import Memory, CyclicCache, LRUCache, RandomCache\n",
    "import random"
   ]
  },
  {
   "cell_type": "markdown",
   "metadata": {},
   "source": [
    "## Experiments\n",
    "We use a range of test cases in this main part, in order to show the performance and relationship between the different caching strategies under various conditions."
   ]
  },
  {
   "cell_type": "code",
   "execution_count": 2,
   "metadata": {},
   "outputs": [],
   "source": [
    "# We define the main test process here.\n",
    "def process():\n",
    "    mem = Memory()\n",
    "    lru = LRUCache()\n",
    "    cyclic = CyclicCache()\n",
    "    rdm = RandomCache()\n",
    "    for datum in test_data:\n",
    "        mem.lookup(datum)\n",
    "    print(\"Memory memory Hits:\", mem.get_hit_count())\n",
    "    for datum in test_data:\n",
    "        lru.lookup(datum)\n",
    "    print(\"LRU memory Hits:\", lru.get_hit_count())\n",
    "    for datum in test_data:\n",
    "        cyclic.lookup(datum)\n",
    "    print(\"Cyclic memory Hits:\", cyclic.get_hit_count())\n",
    "    for datum in test_data:\n",
    "        rdm.lookup(datum)\n",
    "    print(\"Random memory Hits:\", rdm.get_hit_count())"
   ]
  },
  {
   "cell_type": "markdown",
   "metadata": {},
   "source": [
    "<h4>1. Basic Test Cases: Ordered/Unordered Data Points with no duplicate value contained (Every value in the Test Case is unique).</h4>"
   ]
  },
  {
   "cell_type": "code",
   "execution_count": 3,
   "metadata": {},
   "outputs": [
    {
     "name": "stdout",
     "output_type": "stream",
     "text": [
      "Ordered Unique Data Generation\n",
      "Memory memory Hits: 1000\n",
      "LRU memory Hits: 1000\n",
      "Cyclic memory Hits: 1000\n",
      "Random memory Hits: 1000\n",
      "Unordered Unique Data Generation\n",
      "Memory memory Hits: 1000\n",
      "LRU memory Hits: 1000\n",
      "Cyclic memory Hits: 1000\n",
      "Random memory Hits: 1000\n"
     ]
    }
   ],
   "source": [
    "test_data = []\n",
    "# Ordered Unique Data Generation, from 0 to 999.\n",
    "print(\"Ordered Unique Data Generation\")\n",
    "for i in range(0,1000):\n",
    "    test_data.append(i)\n",
    "\n",
    "process()\n",
    "\n",
    "# Unordered Unique Data Generation, from 0 to 999.\n",
    "import random\n",
    "random.shuffle(test_data)\n",
    "\n",
    "print(\"Unordered Unique Data Generation\")\n",
    "process()\n"
   ]
  },
  {
   "cell_type": "code",
   "execution_count": 8,
   "metadata": {},
   "outputs": [
    {
     "name": "stdout",
     "output_type": "stream",
     "text": [
      "Cache Size Assumed: 4\n",
      "Unique Data Set Generated: [3, 9, 14, 15] *100\n",
      "Memory memory Hits: 2404\n",
      "LRU memory Hits: 4\n",
      "Cyclic memory Hits: 4\n",
      "Random memory Hits: 4\n"
     ]
    }
   ],
   "source": [
    "# Generate Unique Test Data according to the cache size N.\n",
    "# For example: If N=4, the number of the test data will be 4, and this\n",
    "#will be repeated 100 times of the same test set of data.\n",
    "# This time I assumed the cache_size of three implementations same.\n",
    "\n",
    "mem = Memory()\n",
    "lru = LRUCache()\n",
    "cyclic = CyclicCache()\n",
    "rdm = RandomCache()\n",
    "\n",
    "print(\"Cache Size Assumed:\", rdm.cache_size)\n",
    "test_data = []\n",
    "temp = lru.cache_size\n",
    "for i in range(0, lru.cache_size):\n",
    "    test_data.append(random.randint(temp-lru.cache_size, temp))\n",
    "    temp = temp + lru.cache_size + 1\n",
    "print(\"Unique Data Set Generated:\",test_data,\"*100\")\n",
    "for i in range(0, 100):\n",
    "    for j in range(0,temp):\n",
    "        test_data.append(test_data[j])\n",
    "\n",
    "import random\n",
    "random.shuffle(test_data)\n",
    "\n",
    "process()"
   ]
  },
  {
   "cell_type": "code",
   "execution_count": 5,
   "metadata": {},
   "outputs": [],
   "source": [
    "import matplotlib.pyplot as plt"
   ]
  },
  {
   "cell_type": "markdown",
   "metadata": {},
   "source": [
    "<p>Case Note:</p>\n",
    "<p>For these Basic Test Cases above, we can see that they have the same times of memory accesses, this is because the data is unique and the number of data points is not exceeded the cache size, so that every data needs to be cached. Once the cached value is found, it needs not to access memory. Hence in these cases they behave in the same way.</p>"
   ]
  },
  {
   "cell_type": "markdown",
   "metadata": {},
   "source": [
    "<h4>2. The number of unique data points is larger than the cache size.</h4>\n",
    "<p>For example: if the cache size is 4, then the number of unique data points will be larger than 4.</p>"
   ]
  },
  {
   "cell_type": "code",
   "execution_count": 24,
   "metadata": {},
   "outputs": [
    {
     "name": "stdout",
     "output_type": "stream",
     "text": [
      "Cache Size Assumed: 4\n",
      "Unique Data Set Generated: [0, 7, 11, 16, 23] *100\n",
      "Memory memory Hits: 3005\n",
      "LRU memory Hits: 3005\n",
      "Cyclic memory Hits: 3005\n",
      "Random memory Hits: 1218\n",
      "Cache Size Assumed: 4\n",
      "Unique Data Set Generated: [4, 8, 12, 18, 20, 28] *100\n",
      "Memory memory Hits: 3606\n",
      "LRU memory Hits: 3606\n",
      "Cyclic memory Hits: 3606\n",
      "Random memory Hits: 2217\n",
      "Cache Size Assumed: 4\n",
      "Unique Data Set Generated: [1, 8, 14, 15, 22, 25, 31] *100\n",
      "Memory memory Hits: 4207\n",
      "LRU memory Hits: 4207\n",
      "Cyclic memory Hits: 4207\n",
      "Random memory Hits: 3142\n",
      "Cache Size Assumed: 4\n",
      "Unique Data Set Generated: [2, 6, 14, 19, 24, 29, 30, 39] *100\n",
      "Memory memory Hits: 4808\n",
      "LRU memory Hits: 4808\n",
      "Cyclic memory Hits: 4808\n",
      "Random memory Hits: 3936\n",
      "Cache Size Assumed: 4\n",
      "Unique Data Set Generated: [2, 6, 14, 18, 22, 28, 30, 35, 44] *100\n",
      "Memory memory Hits: 5409\n",
      "LRU memory Hits: 5409\n",
      "Cyclic memory Hits: 5409\n",
      "Random memory Hits: 4755\n",
      "Cache Size Assumed: 4\n",
      "Unique Data Set Generated: [1, 5, 13, 19, 22, 29, 31, 36, 42, 49] *100\n",
      "Memory memory Hits: 6010\n",
      "LRU memory Hits: 6010\n",
      "Cyclic memory Hits: 6010\n",
      "Random memory Hits: 5513\n",
      "Cache Size Assumed: 4\n",
      "Unique Data Set Generated: [1, 5, 10, 17, 23, 25, 32, 39, 42, 46, 51] *100\n",
      "Memory memory Hits: 6611\n",
      "LRU memory Hits: 6611\n",
      "Cyclic memory Hits: 6611\n",
      "Random memory Hits: 6229\n",
      "Cache Size Assumed: 4\n",
      "Unique Data Set Generated: [0, 5, 10, 15, 24, 27, 31, 35, 41, 49, 54, 55] *100\n",
      "Memory memory Hits: 7212\n",
      "LRU memory Hits: 7212\n",
      "Cyclic memory Hits: 7212\n",
      "Random memory Hits: 6864\n",
      "Cache Size Assumed: 4\n",
      "Unique Data Set Generated: [2, 5, 13, 19, 20, 25, 33, 35, 44, 48, 52, 59, 63] *100\n",
      "Memory memory Hits: 7813\n",
      "LRU memory Hits: 7813\n",
      "Cyclic memory Hits: 7813\n",
      "Random memory Hits: 7533\n",
      "Cache Size Assumed: 4\n",
      "Unique Data Set Generated: [4, 6, 10, 17, 20, 29, 33, 38, 42, 46, 50, 58, 60, 68] *100\n",
      "Memory memory Hits: 8414\n",
      "LRU memory Hits: 8414\n",
      "Cyclic memory Hits: 8414\n",
      "Random memory Hits: 8188\n"
     ]
    }
   ],
   "source": [
    "# Test Data Generation\n",
    "# We generated 5 unique data points and appended these values 100 times to a list called test_data.\n",
    "mem = Memory()\n",
    "lru = LRUCache()\n",
    "cyclic = CyclicCache()\n",
    "rdm = RandomCache()\n",
    "\n",
    "# I used a range of the number of unique data points, in this case, from 5 to 14 unique values.\n",
    "for k in range(1,11): \n",
    "    print(\"Cache Size Assumed:\", rdm.cache_size)\n",
    "    test_data = []\n",
    "    temp = lru.cache_size\n",
    "    for i in range(0, lru.cache_size + k):\n",
    "        test_data.append(random.randint(temp-lru.cache_size, temp))\n",
    "        temp = temp + lru.cache_size + 1\n",
    "    print(\"Unique Data Set Generated:\",test_data,\"*100\")\n",
    "    for i in range(0, 100):\n",
    "        for j in range(0,temp+k):\n",
    "            test_data.append(test_data[j])\n",
    "    process()\n",
    "    # print(len(test_data))"
   ]
  },
  {
   "cell_type": "markdown",
   "metadata": {},
   "source": [
    "<p>Case Note:</p>\n",
    "<p>As you can see above, LRU and Cyclic strategies are performed in a same way, as the time of every data point used is only once. For the LRU strategy, it needs to write to cache every time after the fifth value (in the case of the cache size is 4) encountered, but it loses the first value added which also needs memory access if the next value is actually the last value just lost. For the Cyclic strategy, it will be the same as the next value encountered is the last value lost, that is bad in terms of memory accessing.</p>\n",
    "<p>Interestingly, the Random strategy behaves very well in the first case, it only accessed the memory about one third (1/3) of the other two strategies. I think this is because the order of value accessing which is random accessing, takes a big advantage and is not restricted to the accessing order.</p>\n",
    "<p>However, when the data set becomes large, the advantage of the Random strategy is reduced sharply first and then gradually diminished as shown in the graph.</p>"
   ]
  },
  {
   "cell_type": "markdown",
   "metadata": {},
   "source": [
    "<h4>3. New value added just after a cached value used (in LRU case, it is read.) and After this, the Data Points between the second and the new added value are repeated several times.</h4>\n",
    "<p>For example: if the cache size is 4, then the data set is like [0,1,2,3,0,4,1,2,3,0,4,1,2,3,0,4,...] (the part of repeatition is '1,2,3,0,4' in this case.) or more data points available, I mean that I intentionally repeat the cached value just before a new value comes, this means I want to explore the performances in case that LRU functionality is used, but I do not know the other two yet.</p>"
   ]
  },
  {
   "cell_type": "code",
   "execution_count": 33,
   "metadata": {},
   "outputs": [
    {
     "name": "stdout",
     "output_type": "stream",
     "text": [
      "Memory memory Hits: 401\n",
      "LRU memory Hits: 400\n",
      "Cyclic memory Hits: 201\n",
      "Random memory Hits: 154\n",
      "Memory memory Hits: 406\n",
      "LRU memory Hits: 405\n",
      "Cyclic memory Hits: 205\n",
      "Random memory Hits: 163\n",
      "Memory memory Hits: 411\n",
      "LRU memory Hits: 410\n",
      "Cyclic memory Hits: 206\n",
      "Random memory Hits: 167\n",
      "Memory memory Hits: 416\n",
      "LRU memory Hits: 415\n",
      "Cyclic memory Hits: 210\n",
      "Random memory Hits: 167\n",
      "Memory memory Hits: 421\n",
      "LRU memory Hits: 420\n",
      "Cyclic memory Hits: 211\n",
      "Random memory Hits: 171\n",
      "Memory memory Hits: 426\n",
      "LRU memory Hits: 425\n",
      "Cyclic memory Hits: 215\n",
      "Random memory Hits: 170\n",
      "Memory memory Hits: 431\n",
      "LRU memory Hits: 430\n",
      "Cyclic memory Hits: 216\n",
      "Random memory Hits: 172\n",
      "Memory memory Hits: 436\n",
      "LRU memory Hits: 435\n",
      "Cyclic memory Hits: 220\n",
      "Random memory Hits: 183\n",
      "Memory memory Hits: 441\n",
      "LRU memory Hits: 440\n",
      "Cyclic memory Hits: 221\n",
      "Random memory Hits: 177\n",
      "Memory memory Hits: 446\n",
      "LRU memory Hits: 445\n",
      "Cyclic memory Hits: 225\n",
      "Random memory Hits: 189\n",
      "Memory memory Hits: 451\n",
      "LRU memory Hits: 450\n",
      "Cyclic memory Hits: 226\n",
      "Random memory Hits: 185\n",
      "Memory memory Hits: 456\n",
      "LRU memory Hits: 455\n",
      "Cyclic memory Hits: 230\n",
      "Random memory Hits: 194\n",
      "Memory memory Hits: 461\n",
      "LRU memory Hits: 460\n",
      "Cyclic memory Hits: 231\n",
      "Random memory Hits: 182\n",
      "Memory memory Hits: 466\n",
      "LRU memory Hits: 465\n",
      "Cyclic memory Hits: 235\n",
      "Random memory Hits: 192\n",
      "Memory memory Hits: 471\n",
      "LRU memory Hits: 470\n",
      "Cyclic memory Hits: 236\n",
      "Random memory Hits: 189\n",
      "Memory memory Hits: 476\n",
      "LRU memory Hits: 475\n",
      "Cyclic memory Hits: 240\n",
      "Random memory Hits: 199\n",
      "Memory memory Hits: 481\n",
      "LRU memory Hits: 480\n",
      "Cyclic memory Hits: 241\n",
      "Random memory Hits: 194\n",
      "Memory memory Hits: 486\n",
      "LRU memory Hits: 485\n",
      "Cyclic memory Hits: 245\n",
      "Random memory Hits: 204\n",
      "Memory memory Hits: 491\n",
      "LRU memory Hits: 490\n",
      "Cyclic memory Hits: 246\n",
      "Random memory Hits: 202\n",
      "Memory memory Hits: 496\n",
      "LRU memory Hits: 495\n",
      "Cyclic memory Hits: 250\n",
      "Random memory Hits: 209\n",
      "Cache Size Selected: 4\n",
      "[0, 1, 2, 3, 0, 4, 1, 2, 3, 0, 4, 1, 2, 3, 0, 4, 1, 2, 3, 0, 4, 1, 2, 3, 0, 4, 1, 2, 3, 0, 4, 1, 2, 3, 0, 4, 1, 2, 3, 0, 4, 1, 2, 3, 0, 4, 1, 2, 3, 0, 4, 1, 2, 3, 0, 4, 1, 2, 3, 0, 4, 1, 2, 3, 0, 4, 1, 2, 3, 0, 4, 1, 2, 3, 0, 4, 1, 2, 3, 0, 4, 1, 2, 3, 0, 4, 1, 2, 3, 0, 4, 1, 2, 3, 0, 4, 1, 2, 3, 0, 4, 1, 2, 3, 0, 4, 1, 2, 3, 0, 4, 1, 2, 3, 0, 4, 1, 2, 3, 0, 4, 1, 2, 3, 0, 4, 1, 2, 3, 0, 4, 1, 2, 3, 0, 4, 1, 2, 3, 0, 4, 1, 2, 3, 0, 4, 1, 2, 3, 0, 4, 1, 2, 3, 0, 4, 1, 2, 3, 0, 4, 1, 2, 3, 0, 4, 1, 2, 3, 0, 4, 1, 2, 3, 0, 4, 1, 2, 3, 0, 4, 1, 2, 3, 0, 4, 1, 2, 3, 0, 4, 1, 2, 3, 0, 4, 1, 2, 3, 0, 4, 1, 2, 3, 0, 4, 1, 2, 3, 0, 4, 1, 2, 3, 0, 4, 1, 2, 3, 0, 4, 1, 2, 3, 0, 4, 1, 2, 3, 0, 4, 1, 2, 3, 0, 4, 1, 2, 3, 0, 4, 1, 2, 3, 0, 4, 1, 2, 3, 0, 4, 1, 2, 3, 0, 4, 1, 2, 3, 0, 4, 1, 2, 3, 0, 4, 1, 2, 3, 0, 4, 1, 2, 3, 0, 4, 1, 2, 3, 0, 4, 1, 2, 3, 0, 4, 1, 2, 3, 0, 4, 1, 2, 3, 0, 4, 1, 2, 3, 0, 4, 1, 2, 3, 0, 4, 1, 2, 3, 0, 4, 1, 2, 3, 0, 4, 1, 2, 3, 0, 4, 1, 2, 3, 0, 4, 1, 2, 3, 0, 4, 1, 2, 3, 0, 4, 1, 2, 3, 0, 4, 1, 2, 3, 0, 4, 1, 2, 3, 0, 4, 1, 2, 3, 0, 4, 1, 2, 3, 0, 4, 1, 2, 3, 0, 4, 1, 2, 3, 0, 4, 1, 2, 3, 0, 4, 1, 2, 3, 0, 4, 1, 2, 3, 0, 4, 1, 2, 3, 0, 4, 1, 2, 3, 0, 4, 1, 2, 3, 0, 4, 1, 2, 3, 0, 4, 1, 2, 3, 0, 4, 1, 2, 3, 0, 4, 1, 2, 3, 0, 4, 1, 2, 3, 0, 4, 1, 2, 3, 0, 4, 1, 2, 3, 0, 4, 1, 2, 3, 0, 4, 1, 2, 3, 0, 4, 1, 2, 3, 0, 4, 1, 2, 3, 0, 4, 1, 2, 3, 0, 4, 1, 2, 3, 0, 4, 1, 2, 3, 0, 4, 1, 2, 3, 0, 4, 1, 2, 3, 0, 4, 1, 2, 3, 0, 4, 1, 2, 3, 0, 4, 1, 2, 3, 0, 4]\n"
     ]
    }
   ],
   "source": [
    "mem = Memory()\n",
    "lru = LRUCache()\n",
    "cyclic = CyclicCache()\n",
    "rdm = RandomCache()\n",
    "\n",
    "# I used a range of the number of unique data points, in this case, from 5 to 14 repeated set of values.\n",
    "for k in range(80,100):\n",
    "    test_data = []\n",
    "    for i in range(0,rdm.cache_size):\n",
    "        test_data.append(i)\n",
    "    test_data.append(test_data[0])\n",
    "    test_data.append(i+1)\n",
    "    for j in range(1,k):\n",
    "        for i in range(1,rdm.cache_size+2):\n",
    "            test_data.append(test_data[i])\n",
    "    process()\n",
    "\n",
    "print(\"Cache Size Selected:\", rdm.cache_size)\n",
    "print(test_data)"
   ]
  },
  {
   "cell_type": "code",
   "execution_count": 6,
   "metadata": {},
   "outputs": [
    {
     "name": "stdout",
     "output_type": "stream",
     "text": [
      "Memory memory Hits: 9999\n",
      "LRU memory Hits: 3377\n",
      "Cyclic memory Hits: 3309\n",
      "Random memory Hits: 3359\n"
     ]
    }
   ],
   "source": [
    "# test_data = [1,2,3,1,5,1,6,7,8,1,9,2,3,1]\n",
    "\n",
    "test_data = []\n",
    "for i in range(0,9999):\n",
    "    test_data.append(random.randint(0, 5))\n",
    "\n",
    "process()"
   ]
  },
  {
   "cell_type": "markdown",
   "metadata": {},
   "source": [
    "## Conclusions\n",
    "Both implementations seem to be doing the same thing."
   ]
  },
  {
   "cell_type": "code",
   "execution_count": null,
   "metadata": {},
   "outputs": [],
   "source": []
  }
 ],
 "metadata": {
  "kernelspec": {
   "display_name": "Python 3",
   "language": "python",
   "name": "python3"
  },
  "language_info": {
   "codemirror_mode": {
    "name": "ipython",
    "version": 3
   },
   "file_extension": ".py",
   "mimetype": "text/x-python",
   "name": "python",
   "nbconvert_exporter": "python",
   "pygments_lexer": "ipython3",
   "version": "3.8.5"
  }
 },
 "nbformat": 4,
 "nbformat_minor": 2
}
