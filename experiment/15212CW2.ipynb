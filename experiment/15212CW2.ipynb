{
 "cells": [
  {
   "cell_type": "markdown",
   "metadata": {},
   "source": [
    "# Caching Strategies Exploration\n",
    "<i><h3>15212-CourseWork-2 from Weicheng Ao</h3></i>"
   ]
  },
  {
   "cell_type": "code",
   "execution_count": 1,
   "metadata": {},
   "outputs": [],
   "source": [
    "# Basic imports, including the matplotlib graphical library.\n",
    "from cache import Memory, CyclicCache, LRUCache, RandomCache\n",
    "import random\n",
    "import matplotlib.pyplot as plt\n",
    "import pandas as pd\n",
    "cache_size = 4"
   ]
  },
  {
   "cell_type": "markdown",
   "metadata": {},
   "source": [
    "## Experiments\n",
    "We use a range of test cases in this main part, in order to show the performance and relationship between the different caching strategies under various conditions."
   ]
  },
  {
   "cell_type": "code",
   "execution_count": 2,
   "metadata": {},
   "outputs": [],
   "source": [
    "# We define the main test process here.\n",
    "def process():\n",
    "    global memcount,cycliccount,rdmcount,lrucount,results,cache_size\n",
    "    mem = Memory()\n",
    "    lru = LRUCache()\n",
    "    cyclic = CyclicCache()\n",
    "    rdm = RandomCache()\n",
    "\n",
    "    lru.cache_size = cache_size\n",
    "    rdm.cache_size = cache_size\n",
    "    cyclic.cache_size = cache_size\n",
    "\n",
    "    results = []\n",
    "    for datum in test_data:\n",
    "        mem.lookup(datum)\n",
    "\n",
    "    memcount = mem.get_hit_count()\n",
    "    results.append(memcount)\n",
    "    \n",
    "    for datum in test_data:\n",
    "        lru.lookup(datum)\n",
    "\n",
    "    lrucount = lru.get_hit_count()\n",
    "    results.append(lrucount)\n",
    "\n",
    "    for datum in test_data:\n",
    "        cyclic.lookup(datum)\n",
    "\n",
    "    cycliccount = cyclic.get_hit_count()\n",
    "    results.append(cycliccount)\n",
    "\n",
    "    for datum in test_data:\n",
    "        rdm.lookup(datum)\n",
    "\n",
    "    rdmcount = rdm.get_hit_count()\n",
    "    results.append(rdmcount)"
   ]
  },
  {
   "cell_type": "markdown",
   "metadata": {},
   "source": [
    "<h4>1. Basic Test Cases: Ordered/Unordered Data Points with no duplicate value contained (Every value in the Test Case is unique).</h4>"
   ]
  },
  {
   "cell_type": "code",
   "execution_count": 3,
   "metadata": {},
   "outputs": [
    {
     "name": "stdout",
     "output_type": "stream",
     "text": [
      "Ordered Unique Data Generation\n"
     ]
    },
    {
     "data": {
      "text/html": [
       "<div>\n",
       "<style scoped>\n",
       "    .dataframe tbody tr th:only-of-type {\n",
       "        vertical-align: middle;\n",
       "    }\n",
       "\n",
       "    .dataframe tbody tr th {\n",
       "        vertical-align: top;\n",
       "    }\n",
       "\n",
       "    .dataframe thead th {\n",
       "        text-align: right;\n",
       "    }\n",
       "</style>\n",
       "<table border=\"1\" class=\"dataframe\">\n",
       "  <thead>\n",
       "    <tr style=\"text-align: right;\">\n",
       "      <th></th>\n",
       "      <th>Memory Memory Hits</th>\n",
       "      <th>LRU Memory Hits</th>\n",
       "      <th>Cyclic Memory Hits</th>\n",
       "      <th>Random Memory Hits</th>\n",
       "    </tr>\n",
       "  </thead>\n",
       "  <tbody>\n",
       "    <tr>\n",
       "      <th>0</th>\n",
       "      <td>1000</td>\n",
       "      <td>1000</td>\n",
       "      <td>1000</td>\n",
       "      <td>1000</td>\n",
       "    </tr>\n",
       "  </tbody>\n",
       "</table>\n",
       "</div>"
      ],
      "text/plain": [
       "  Memory Memory Hits LRU Memory Hits Cyclic Memory Hits Random Memory Hits\n",
       "0               1000            1000               1000               1000"
      ]
     },
     "execution_count": 3,
     "metadata": {},
     "output_type": "execute_result"
    }
   ],
   "source": [
    "test_data = []\n",
    "# Ordered Unique Data Generation, from 0 to 999.\n",
    "print(\"Ordered Unique Data Generation\")\n",
    "for i in range(0,1000):\n",
    "    test_data.append(i)\n",
    "process()\n",
    "df = pd.DataFrame(index=[i for i in range(1)], columns=['Memory Memory Hits','LRU Memory Hits','Cyclic Memory Hits','Random Memory Hits'])\n",
    "for i in range(len(df)):\n",
    "    df['Memory Memory Hits'][i]=memcount\n",
    "    df['LRU Memory Hits'][i]=lrucount\n",
    "    df['Cyclic Memory Hits'][i]=cycliccount\n",
    "    df['Random Memory Hits'][i]=rdmcount\n",
    "df"
   ]
  },
  {
   "cell_type": "code",
   "execution_count": 4,
   "metadata": {},
   "outputs": [
    {
     "name": "stdout",
     "output_type": "stream",
     "text": [
      "Unordered Unique Data Generation\n"
     ]
    },
    {
     "data": {
      "text/html": [
       "<div>\n",
       "<style scoped>\n",
       "    .dataframe tbody tr th:only-of-type {\n",
       "        vertical-align: middle;\n",
       "    }\n",
       "\n",
       "    .dataframe tbody tr th {\n",
       "        vertical-align: top;\n",
       "    }\n",
       "\n",
       "    .dataframe thead th {\n",
       "        text-align: right;\n",
       "    }\n",
       "</style>\n",
       "<table border=\"1\" class=\"dataframe\">\n",
       "  <thead>\n",
       "    <tr style=\"text-align: right;\">\n",
       "      <th></th>\n",
       "      <th>Memory Memory Hits</th>\n",
       "      <th>LRU Memory Hits</th>\n",
       "      <th>Cyclic Memory Hits</th>\n",
       "      <th>Random Memory Hits</th>\n",
       "    </tr>\n",
       "  </thead>\n",
       "  <tbody>\n",
       "    <tr>\n",
       "      <th>0</th>\n",
       "      <td>1000</td>\n",
       "      <td>1000</td>\n",
       "      <td>1000</td>\n",
       "      <td>1000</td>\n",
       "    </tr>\n",
       "  </tbody>\n",
       "</table>\n",
       "</div>"
      ],
      "text/plain": [
       "  Memory Memory Hits LRU Memory Hits Cyclic Memory Hits Random Memory Hits\n",
       "0               1000            1000               1000               1000"
      ]
     },
     "execution_count": 4,
     "metadata": {},
     "output_type": "execute_result"
    }
   ],
   "source": [
    "# Unordered Unique Data Generation, from 0 to 999.\n",
    "import random\n",
    "random.shuffle(test_data)\n",
    "\n",
    "print(\"Unordered Unique Data Generation\")\n",
    "process()\n",
    "df = pd.DataFrame(index=[i for i in range(1)], columns=['Memory Memory Hits','LRU Memory Hits','Cyclic Memory Hits','Random Memory Hits'])\n",
    "for i in range(len(df)):\n",
    "    df['Memory Memory Hits'][i]=memcount\n",
    "    df['LRU Memory Hits'][i]=lrucount\n",
    "    df['Cyclic Memory Hits'][i]=cycliccount\n",
    "    df['Random Memory Hits'][i]=rdmcount\n",
    "df"
   ]
  },
  {
   "cell_type": "code",
   "execution_count": 5,
   "metadata": {},
   "outputs": [
    {
     "data": {
      "image/png": "[encoded data removed]",
      "text/plain": [
       "<Figure size 432x288 with 1 Axes>"
      ]
     },
     "metadata": {
      "needs_background": "light"
     },
     "output_type": "display_data"
    }
   ],
   "source": [
    "colours = ['orange','purple','blue','indigo','gray','green','black','pink']\n",
    "\n",
    "plt.xlabel('<---Strategies--->')\n",
    "plt.ylabel('<---Hit Counts--->')\n",
    "plt.title('Basic Test Case Results reported in Hit Counts')\n",
    "bars = plt.bar(['Memory','Cyclic','Random','LRU'],[memcount,cycliccount,rdmcount,lrucount],label='Hit Counts')\n",
    "for i in range(4):\n",
    "    bars[i].set_color(colours[i])\n",
    "for x,y in zip(['Memory','Cyclic','Random','LRU'],[memcount,cycliccount,rdmcount,lrucount]):\n",
    "    plt.text(x,y,'%.2f' %y, ha='center',va='bottom')"
   ]
  },
  {
   "cell_type": "code",
   "execution_count": 6,
   "metadata": {},
   "outputs": [
    {
     "name": "stdout",
     "output_type": "stream",
     "text": [
      "Cache Size Assumed: 4\n",
      "Unique Data Set Generated: [2, 8, 12, 16] *100\n"
     ]
    },
    {
     "data": {
      "text/html": [
       "<div>\n",
       "<style scoped>\n",
       "    .dataframe tbody tr th:only-of-type {\n",
       "        vertical-align: middle;\n",
       "    }\n",
       "\n",
       "    .dataframe tbody tr th {\n",
       "        vertical-align: top;\n",
       "    }\n",
       "\n",
       "    .dataframe thead th {\n",
       "        text-align: right;\n",
       "    }\n",
       "</style>\n",
       "<table border=\"1\" class=\"dataframe\">\n",
       "  <thead>\n",
       "    <tr style=\"text-align: right;\">\n",
       "      <th></th>\n",
       "      <th>Memory Memory Hits</th>\n",
       "      <th>LRU Memory Hits</th>\n",
       "      <th>Cyclic Memory Hits</th>\n",
       "      <th>Random Memory Hits</th>\n",
       "    </tr>\n",
       "  </thead>\n",
       "  <tbody>\n",
       "    <tr>\n",
       "      <th>0</th>\n",
       "      <td>2404</td>\n",
       "      <td>4</td>\n",
       "      <td>4</td>\n",
       "      <td>4</td>\n",
       "    </tr>\n",
       "  </tbody>\n",
       "</table>\n",
       "</div>"
      ],
      "text/plain": [
       "  Memory Memory Hits LRU Memory Hits Cyclic Memory Hits Random Memory Hits\n",
       "0               2404               4                  4                  4"
      ]
     },
     "execution_count": 6,
     "metadata": {},
     "output_type": "execute_result"
    }
   ],
   "source": [
    "# Generate Unique Test Data according to the cache size N.\n",
    "# For example: If N=4, the number of the test data will be 4, and this\n",
    "#will be repeated 100 times of the same test set of data.\n",
    "# This time I assumed the cache_size of three implementations same.\n",
    "\n",
    "mem = Memory()\n",
    "lru = LRUCache()\n",
    "cyclic = CyclicCache()\n",
    "rdm = RandomCache()\n",
    "\n",
    "print(\"Cache Size Assumed:\", rdm.cache_size)\n",
    "test_data = []\n",
    "temp = lru.cache_size\n",
    "for i in range(0, lru.cache_size):\n",
    "    test_data.append(random.randint(temp-lru.cache_size, temp))\n",
    "    temp = temp + lru.cache_size + 1\n",
    "print(\"Unique Data Set Generated:\",test_data,\"*100\")\n",
    "for i in range(0, 100):\n",
    "    for j in range(0,temp):\n",
    "        test_data.append(test_data[j])\n",
    "\n",
    "import random\n",
    "random.shuffle(test_data)\n",
    "\n",
    "process()\n",
    "df = pd.DataFrame(index=[i for i in range(1)], columns=['Memory Memory Hits','LRU Memory Hits','Cyclic Memory Hits','Random Memory Hits'])\n",
    "for i in range(len(df)):\n",
    "    df['Memory Memory Hits'][i]=memcount\n",
    "    df['LRU Memory Hits'][i]=lrucount\n",
    "    df['Cyclic Memory Hits'][i]=cycliccount\n",
    "    df['Random Memory Hits'][i]=rdmcount\n",
    "df"
   ]
  },
  {
   "cell_type": "code",
   "execution_count": 7,
   "metadata": {},
   "outputs": [
    {
     "data": {
      "image/png": "[encoded data removed]",
      "text/plain": [
       "<Figure size 432x288 with 1 Axes>"
      ]
     },
     "metadata": {
      "needs_background": "light"
     },
     "output_type": "display_data"
    }
   ],
   "source": [
    "plt.title(\"Hit Counts reported in Different Strategies\")\n",
    "plt.ylabel('Hit Counts')\n",
    "plt.xlabel('Strategies Available')\n",
    "plt.bar(['LRU','Cyclic','Random'],[lrucount,cycliccount,rdmcount], label='Hit Counts',hatch=\"/\",color=\"c\")\n",
    "for x,y in zip(['LRU','Cyclic','Random'],[lrucount,cycliccount,rdmcount]):\n",
    "    plt.text(x,y,'%.2f' %y, ha='center',va='bottom')"
   ]
  },
  {
   "cell_type": "markdown",
   "metadata": {},
   "source": [
    "<p>Case 1 -- Note:</p>\n",
    "<p>For these Basic Test Cases above, we can see that they have the same times of memory accesses, this is because the data points are unique and the number of unique data points is not exceeds the cache size, so that every data needs to be cached at the first time encountered. Once the cached value is found, it needs not to access memory. Hence in these cases all three implementations behave in the same way.</p>"
   ]
  },
  {
   "cell_type": "markdown",
   "metadata": {},
   "source": [
    "<h4>2. The number of unique data points is larger than the cache size.</h4>\n",
    "<p>For example: if the cache size is 4, then the number of unique data points will be larger than 4. As opposed to the Case 1.</p>"
   ]
  },
  {
   "cell_type": "code",
   "execution_count": 8,
   "metadata": {},
   "outputs": [
    {
     "name": "stdout",
     "output_type": "stream",
     "text": [
      "Cache Size Assumed: 4\n",
      "Unique Data Set Generated: [0, 8, 11, 17, 22] *100\n",
      "Cache Size Assumed: 4\n",
      "Unique Data Set Generated: [0, 6, 11, 17, 20, 25] *100\n",
      "Cache Size Assumed: 4\n",
      "Unique Data Set Generated: [2, 5, 11, 18, 20, 27, 32] *100\n",
      "Cache Size Assumed: 4\n",
      "Unique Data Set Generated: [2, 9, 14, 18, 22, 29, 34, 38] *100\n",
      "Cache Size Assumed: 4\n",
      "Unique Data Set Generated: [2, 9, 12, 18, 22, 29, 31, 37, 42] *100\n",
      "Cache Size Assumed: 4\n",
      "Unique Data Set Generated: [3, 8, 11, 15, 20, 27, 31, 39, 42, 48] *100\n",
      "Cache Size Assumed: 4\n",
      "Unique Data Set Generated: [3, 5, 13, 16, 21, 25, 32, 39, 44, 49, 52] *100\n",
      "Cache Size Assumed: 4\n",
      "Unique Data Set Generated: [3, 8, 13, 19, 20, 28, 33, 38, 41, 45, 51, 58] *100\n",
      "Cache Size Assumed: 4\n",
      "Unique Data Set Generated: [4, 7, 10, 19, 24, 25, 30, 38, 42, 45, 52, 55, 61] *100\n",
      "Cache Size Assumed: 4\n",
      "Unique Data Set Generated: [3, 6, 11, 15, 23, 26, 32, 38, 44, 46, 53, 59, 61, 69] *100\n"
     ]
    },
    {
     "data": {
      "text/html": [
       "<div>\n",
       "<style scoped>\n",
       "    .dataframe tbody tr th:only-of-type {\n",
       "        vertical-align: middle;\n",
       "    }\n",
       "\n",
       "    .dataframe tbody tr th {\n",
       "        vertical-align: top;\n",
       "    }\n",
       "\n",
       "    .dataframe thead th {\n",
       "        text-align: right;\n",
       "    }\n",
       "</style>\n",
       "<table border=\"1\" class=\"dataframe\">\n",
       "  <thead>\n",
       "    <tr style=\"text-align: right;\">\n",
       "      <th></th>\n",
       "      <th>Memory Memory Hits</th>\n",
       "      <th>LRU Memory Hits</th>\n",
       "      <th>Cyclic Memory Hits</th>\n",
       "      <th>Random Memory Hits</th>\n",
       "      <th>Number of unique data points</th>\n",
       "      <th>Data Set Generated</th>\n",
       "    </tr>\n",
       "  </thead>\n",
       "  <tbody>\n",
       "    <tr>\n",
       "      <th>0</th>\n",
       "      <td>3005</td>\n",
       "      <td>3005</td>\n",
       "      <td>3005</td>\n",
       "      <td>1182</td>\n",
       "      <td>5</td>\n",
       "      <td>[0, 8, 11, 17, 22, 0, 8, 11, 17, 22, 0, 8, 11,...</td>\n",
       "    </tr>\n",
       "    <tr>\n",
       "      <th>1</th>\n",
       "      <td>3606</td>\n",
       "      <td>3606</td>\n",
       "      <td>3606</td>\n",
       "      <td>2200</td>\n",
       "      <td>6</td>\n",
       "      <td>[0, 6, 11, 17, 20, 25, 0, 6, 11, 17, 20, 25, 0...</td>\n",
       "    </tr>\n",
       "    <tr>\n",
       "      <th>2</th>\n",
       "      <td>4207</td>\n",
       "      <td>4207</td>\n",
       "      <td>4207</td>\n",
       "      <td>3139</td>\n",
       "      <td>7</td>\n",
       "      <td>[2, 5, 11, 18, 20, 27, 32, 2, 5, 11, 18, 20, 2...</td>\n",
       "    </tr>\n",
       "    <tr>\n",
       "      <th>3</th>\n",
       "      <td>4808</td>\n",
       "      <td>4808</td>\n",
       "      <td>4808</td>\n",
       "      <td>3955</td>\n",
       "      <td>8</td>\n",
       "      <td>[2, 9, 14, 18, 22, 29, 34, 38, 2, 9, 14, 18, 2...</td>\n",
       "    </tr>\n",
       "    <tr>\n",
       "      <th>4</th>\n",
       "      <td>5409</td>\n",
       "      <td>5409</td>\n",
       "      <td>5409</td>\n",
       "      <td>4744</td>\n",
       "      <td>9</td>\n",
       "      <td>[2, 9, 12, 18, 22, 29, 31, 37, 42, 2, 9, 12, 1...</td>\n",
       "    </tr>\n",
       "    <tr>\n",
       "      <th>5</th>\n",
       "      <td>6010</td>\n",
       "      <td>6010</td>\n",
       "      <td>6010</td>\n",
       "      <td>5514</td>\n",
       "      <td>10</td>\n",
       "      <td>[3, 8, 11, 15, 20, 27, 31, 39, 42, 48, 3, 8, 1...</td>\n",
       "    </tr>\n",
       "    <tr>\n",
       "      <th>6</th>\n",
       "      <td>6611</td>\n",
       "      <td>6611</td>\n",
       "      <td>6611</td>\n",
       "      <td>6192</td>\n",
       "      <td>11</td>\n",
       "      <td>[3, 5, 13, 16, 21, 25, 32, 39, 44, 49, 52, 3, ...</td>\n",
       "    </tr>\n",
       "    <tr>\n",
       "      <th>7</th>\n",
       "      <td>7212</td>\n",
       "      <td>7212</td>\n",
       "      <td>7212</td>\n",
       "      <td>6848</td>\n",
       "      <td>12</td>\n",
       "      <td>[3, 8, 13, 19, 20, 28, 33, 38, 41, 45, 51, 58,...</td>\n",
       "    </tr>\n",
       "    <tr>\n",
       "      <th>8</th>\n",
       "      <td>7813</td>\n",
       "      <td>7813</td>\n",
       "      <td>7813</td>\n",
       "      <td>7530</td>\n",
       "      <td>13</td>\n",
       "      <td>[4, 7, 10, 19, 24, 25, 30, 38, 42, 45, 52, 55,...</td>\n",
       "    </tr>\n",
       "    <tr>\n",
       "      <th>9</th>\n",
       "      <td>8414</td>\n",
       "      <td>8414</td>\n",
       "      <td>8414</td>\n",
       "      <td>8214</td>\n",
       "      <td>14</td>\n",
       "      <td>[3, 6, 11, 15, 23, 26, 32, 38, 44, 46, 53, 59,...</td>\n",
       "    </tr>\n",
       "  </tbody>\n",
       "</table>\n",
       "</div>"
      ],
      "text/plain": [
       "  Memory Memory Hits LRU Memory Hits Cyclic Memory Hits Random Memory Hits  \\\n",
       "0               3005            3005               3005               1182   \n",
       "1               3606            3606               3606               2200   \n",
       "2               4207            4207               4207               3139   \n",
       "3               4808            4808               4808               3955   \n",
       "4               5409            5409               5409               4744   \n",
       "5               6010            6010               6010               5514   \n",
       "6               6611            6611               6611               6192   \n",
       "7               7212            7212               7212               6848   \n",
       "8               7813            7813               7813               7530   \n",
       "9               8414            8414               8414               8214   \n",
       "\n",
       "  Number of unique data points  \\\n",
       "0                            5   \n",
       "1                            6   \n",
       "2                            7   \n",
       "3                            8   \n",
       "4                            9   \n",
       "5                           10   \n",
       "6                           11   \n",
       "7                           12   \n",
       "8                           13   \n",
       "9                           14   \n",
       "\n",
       "                                  Data Set Generated  \n",
       "0  [0, 8, 11, 17, 22, 0, 8, 11, 17, 22, 0, 8, 11,...  \n",
       "1  [0, 6, 11, 17, 20, 25, 0, 6, 11, 17, 20, 25, 0...  \n",
       "2  [2, 5, 11, 18, 20, 27, 32, 2, 5, 11, 18, 20, 2...  \n",
       "3  [2, 9, 14, 18, 22, 29, 34, 38, 2, 9, 14, 18, 2...  \n",
       "4  [2, 9, 12, 18, 22, 29, 31, 37, 42, 2, 9, 12, 1...  \n",
       "5  [3, 8, 11, 15, 20, 27, 31, 39, 42, 48, 3, 8, 1...  \n",
       "6  [3, 5, 13, 16, 21, 25, 32, 39, 44, 49, 52, 3, ...  \n",
       "7  [3, 8, 13, 19, 20, 28, 33, 38, 41, 45, 51, 58,...  \n",
       "8  [4, 7, 10, 19, 24, 25, 30, 38, 42, 45, 52, 55,...  \n",
       "9  [3, 6, 11, 15, 23, 26, 32, 38, 44, 46, 53, 59,...  "
      ]
     },
     "execution_count": 8,
     "metadata": {},
     "output_type": "execute_result"
    }
   ],
   "source": [
    "# Test Data Generation\n",
    "# We generated 5 unique data points and appended these values 100 times to a list called test_data.\n",
    "mem = Memory()\n",
    "lru = LRUCache()\n",
    "cyclic = CyclicCache()\n",
    "rdm = RandomCache()\n",
    "mem_results = []\n",
    "lru_results = []\n",
    "cyclic_results = []\n",
    "rdm_results = []\n",
    "\n",
    "# I used a range of the number of unique data points, in this case, from 5 to 14 unique values.\n",
    "df = pd.DataFrame(index=[i for i in range(10)], columns=['Memory Memory Hits','LRU Memory Hits','Cyclic Memory Hits','Random Memory Hits','Number of unique data points','Data Set Generated'])\n",
    "for k in range(1,11): \n",
    "    print(\"Cache Size Assumed:\", rdm.cache_size)\n",
    "    test_data = []\n",
    "    temp = lru.cache_size\n",
    "    for i in range(0, lru.cache_size + k):\n",
    "        # This code snippet in this for loop is for generating unique values.\n",
    "        test_data.append(random.randint(temp-lru.cache_size, temp))\n",
    "        temp = temp + lru.cache_size + 1\n",
    "    df['Data Set Generated'][k-1]=test_data\n",
    "    print(\"Unique Data Set Generated:\",test_data,\"*100\")\n",
    "    for i in range(0, 100):\n",
    "        for j in range(0,temp+k):\n",
    "            test_data.append(test_data[j])\n",
    "    process()\n",
    "    df['Memory Memory Hits'][k-1]=memcount\n",
    "    df['LRU Memory Hits'][k-1]=lrucount\n",
    "    df['Cyclic Memory Hits'][k-1]=cycliccount\n",
    "    df['Random Memory Hits'][k-1]=rdmcount\n",
    "\n",
    "    df['Number of unique data points'][k-1]=lru.cache_size + k\n",
    "\n",
    "    mem_results.append(results[0])\n",
    "    lru_results.append(results[1])\n",
    "    cyclic_results.append(results[2])\n",
    "    rdm_results.append(results[3])\n",
    "df"
   ]
  },
  {
   "cell_type": "code",
   "execution_count": 9,
   "metadata": {},
   "outputs": [
    {
     "data": {
      "text/plain": [
       "<matplotlib.legend.Legend at 0x7fef5304f730>"
      ]
     },
     "execution_count": 9,
     "metadata": {},
     "output_type": "execute_result"
    },
    {
     "data": {
      "image/png": "[encoded data removed]",
      "text/plain": [
       "<Figure size 720x288 with 1 Axes>"
      ]
     },
     "metadata": {
      "needs_background": "light"
     },
     "output_type": "display_data"
    }
   ],
   "source": [
    "# Graphical Representation of these results above.\n",
    "plt.figure('Trends', figsize=(10,4))\n",
    "plt.title(\"Hit Counts' Changes about Different Strategies\")\n",
    "plt.ylabel('Hit Counts')\n",
    "plt.xlabel('Increment in the Number of Unique Data Points j (Originally 4, then 4+j)')\n",
    "plt.plot(lru_results, label='LRU', marker='o',markersize='11')\n",
    "plt.plot(mem_results, label='Memory', marker='o',markersize='11')\n",
    "plt.plot(rdm_results, label='Random', marker='o',markersize='11')\n",
    "plt.plot(cyclic_results, label='Cyclic', marker='o',markersize='11')\n",
    "plt.legend(loc='upper left')"
   ]
  },
  {
   "cell_type": "markdown",
   "metadata": {},
   "source": [
    "<p>Case 2 -- Note:</p>\n",
    "<p>As you can see above, LRU and Cyclic strategies are performed in a same way, as each data point used is only once. For the LRU strategy, it needs to write to cache every time after the fifth value (in the case of the cache size is 4) encountered, but it loses the first value added which also needs an extra memory access if the next value is actually the last value just lost. For the Cyclic strategy, it will be the same as the next value encountered is the last value lost, that is bad in terms of memory accessing.</p>\n",
    "<p>Interestingly, the Random strategy behaves very well in the first case, it only accessed the memory about one third (1/3) time of the other two strategies. I think this is because the order of value accessing which is random accessing, takes a big advantage and is not restricted to the accessing order.</p>\n",
    "<p>However, when the unique data points becomes large, the advantage of the Random strategy is reduced sharply first and then gradually diminished as shown in the graph above, we can see that the difference between the green line(refers to the Random strategy) and the other lines, gradually decreases when the data set becomes large and finally no difference at all at some point. In other words, they are converged finally.</p>"
   ]
  },
  {
   "cell_type": "markdown",
   "metadata": {},
   "source": [
    "<h4>3. New unique value added just after a cached value used (in LRU case, it is read.) and After this, the Data Points between the second and the new added value are repeated several times.</h4>\n",
    "<p>For example: if the cache size is 4, then the data set is like [0,1,2,3,0,4,1,2,3,0,4,1,2,3,0,4,...] (the part of repetition is '1,2,3,0,4' in this case.) or more data points available, I mean that I intentionally repeat the cached value just before a new value comes, this means I want to explore the performances in case that LRU functionality is used, but I do not know the other two implementations yet.</p>"
   ]
  },
  {
   "cell_type": "code",
   "execution_count": 10,
   "metadata": {},
   "outputs": [
    {
     "name": "stdout",
     "output_type": "stream",
     "text": [
      "Cache Size Selected: 4\n"
     ]
    },
    {
     "data": {
      "text/html": [
       "<div>\n",
       "<style scoped>\n",
       "    .dataframe tbody tr th:only-of-type {\n",
       "        vertical-align: middle;\n",
       "    }\n",
       "\n",
       "    .dataframe tbody tr th {\n",
       "        vertical-align: top;\n",
       "    }\n",
       "\n",
       "    .dataframe thead th {\n",
       "        text-align: right;\n",
       "    }\n",
       "</style>\n",
       "<table border=\"1\" class=\"dataframe\">\n",
       "  <thead>\n",
       "    <tr style=\"text-align: right;\">\n",
       "      <th></th>\n",
       "      <th>Memory Memory Hits</th>\n",
       "      <th>LRU Memory Hits</th>\n",
       "      <th>Cyclic Memory Hits</th>\n",
       "      <th>Random Memory Hits</th>\n",
       "    </tr>\n",
       "  </thead>\n",
       "  <tbody>\n",
       "    <tr>\n",
       "      <th>0</th>\n",
       "      <td>6</td>\n",
       "      <td>5</td>\n",
       "      <td>5</td>\n",
       "      <td>5</td>\n",
       "    </tr>\n",
       "    <tr>\n",
       "      <th>1</th>\n",
       "      <td>11</td>\n",
       "      <td>10</td>\n",
       "      <td>6</td>\n",
       "      <td>7</td>\n",
       "    </tr>\n",
       "    <tr>\n",
       "      <th>2</th>\n",
       "      <td>16</td>\n",
       "      <td>15</td>\n",
       "      <td>10</td>\n",
       "      <td>8</td>\n",
       "    </tr>\n",
       "    <tr>\n",
       "      <th>3</th>\n",
       "      <td>21</td>\n",
       "      <td>20</td>\n",
       "      <td>11</td>\n",
       "      <td>13</td>\n",
       "    </tr>\n",
       "    <tr>\n",
       "      <th>4</th>\n",
       "      <td>26</td>\n",
       "      <td>25</td>\n",
       "      <td>15</td>\n",
       "      <td>13</td>\n",
       "    </tr>\n",
       "    <tr>\n",
       "      <th>5</th>\n",
       "      <td>31</td>\n",
       "      <td>30</td>\n",
       "      <td>16</td>\n",
       "      <td>16</td>\n",
       "    </tr>\n",
       "    <tr>\n",
       "      <th>6</th>\n",
       "      <td>36</td>\n",
       "      <td>35</td>\n",
       "      <td>20</td>\n",
       "      <td>18</td>\n",
       "    </tr>\n",
       "    <tr>\n",
       "      <th>7</th>\n",
       "      <td>41</td>\n",
       "      <td>40</td>\n",
       "      <td>21</td>\n",
       "      <td>18</td>\n",
       "    </tr>\n",
       "    <tr>\n",
       "      <th>8</th>\n",
       "      <td>46</td>\n",
       "      <td>45</td>\n",
       "      <td>25</td>\n",
       "      <td>20</td>\n",
       "    </tr>\n",
       "    <tr>\n",
       "      <th>9</th>\n",
       "      <td>51</td>\n",
       "      <td>50</td>\n",
       "      <td>26</td>\n",
       "      <td>21</td>\n",
       "    </tr>\n",
       "  </tbody>\n",
       "</table>\n",
       "</div>"
      ],
      "text/plain": [
       "  Memory Memory Hits LRU Memory Hits Cyclic Memory Hits Random Memory Hits\n",
       "0                  6               5                  5                  5\n",
       "1                 11              10                  6                  7\n",
       "2                 16              15                 10                  8\n",
       "3                 21              20                 11                 13\n",
       "4                 26              25                 15                 13\n",
       "5                 31              30                 16                 16\n",
       "6                 36              35                 20                 18\n",
       "7                 41              40                 21                 18\n",
       "8                 46              45                 25                 20\n",
       "9                 51              50                 26                 21"
      ]
     },
     "execution_count": 10,
     "metadata": {},
     "output_type": "execute_result"
    }
   ],
   "source": [
    "mem = Memory()\n",
    "lru = LRUCache()\n",
    "cyclic = CyclicCache()\n",
    "rdm = RandomCache()\n",
    "mem_results = []\n",
    "lru_results = []\n",
    "cyclic_results = []\n",
    "rdm_results = []\n",
    "\n",
    "# I used a range of the number of unique data points, in this case, from 5 to 14 repeated set of values.\n",
    "print(\"Cache Size Selected:\", rdm.cache_size)\n",
    "\n",
    "df = pd.DataFrame(index=[i for i in range(10)], columns=['Memory Memory Hits','LRU Memory Hits','Cyclic Memory Hits','Random Memory Hits'])\n",
    "for k in range(1,11):\n",
    "    test_data = []\n",
    "    for i in range(0,rdm.cache_size):\n",
    "        test_data.append(i)\n",
    "    test_data.append(test_data[0])\n",
    "    test_data.append(i+1)\n",
    "    for j in range(1,k):\n",
    "        for i in range(1,rdm.cache_size+2):\n",
    "            test_data.append(test_data[i])\n",
    "    process()\n",
    "    df['Memory Memory Hits'][k-1]=memcount\n",
    "    df['LRU Memory Hits'][k-1]=lrucount\n",
    "    df['Cyclic Memory Hits'][k-1]=cycliccount\n",
    "    df['Random Memory Hits'][k-1]=rdmcount\n",
    "\n",
    "    mem_results.append(results[0])\n",
    "    lru_results.append(results[1])\n",
    "    cyclic_results.append(results[2])\n",
    "    rdm_results.append(results[3])\n",
    "# print(test_data)\n",
    "df"
   ]
  },
  {
   "cell_type": "code",
   "execution_count": 11,
   "metadata": {},
   "outputs": [
    {
     "data": {
      "text/plain": [
       "<matplotlib.legend.Legend at 0x7fef5301a250>"
      ]
     },
     "execution_count": 11,
     "metadata": {},
     "output_type": "execute_result"
    },
    {
     "data": {
      "image/png": "[encoded data removed]",
      "text/plain": [
       "<Figure size 720x288 with 1 Axes>"
      ]
     },
     "metadata": {
      "needs_background": "light"
     },
     "output_type": "display_data"
    }
   ],
   "source": [
    "# Graphical Representation of these results above.\n",
    "plt.figure('Trends', figsize=(10,4))\n",
    "plt.title(\"Hit Counts' Changes about Different Strategies\")\n",
    "plt.ylabel('Hit Counts')\n",
    "plt.xlabel('Increment in the Number of Unique Data Points j (Originally 4, then 4+j)')\n",
    "plt.plot(lru_results, label='LRU', marker='o',markersize='11')\n",
    "plt.plot(mem_results, label='Memory', marker='o',markersize='11')\n",
    "plt.plot(rdm_results, label='Random', marker='o',markersize='11')\n",
    "plt.plot(cyclic_results, label='Cyclic', marker='o',markersize='11')\n",
    "plt.legend(loc='upper left')"
   ]
  },
  {
   "cell_type": "markdown",
   "metadata": {},
   "source": [
    "<p>Case 3 -- Note:</p>\n",
    "<p>As you can see in the line graph above, the method 'New unique value added just after a cached value used' influences the behaviours of these strategies greatly. In this case, the Random and Cyclic strategies performed in a similar way but the LRU and Memory strategies behave in the similar way. The difference of the Memory Hit Counts becomes larger and larger and the LRU hit counts is approximately 2 times as large as the Cyclic and Random hit counts in any set of data points.</p>\n",
    "<p>This is because the Cyclic strategy rewrites the cache in a cyclic way and not consider the least recently used value, this is particularly useful when the next value is in the cache and not thrown away as LRU strategy does(in this case LRU has to use an additional memory hit as it needs to look-up its address.).</p>\n",
    "<p>Besides, I think the Random strategy is performed slightly better than the Cyclic strategy in terms of memory accessing, this might because the Random strategy accessed the memory in a random way, this is particularly useful when the data set is large and there are large data points repeated. And not restrict in an ordered way.</p>"
   ]
  },
  {
   "cell_type": "markdown",
   "metadata": {},
   "source": [
    "<h4>4. All data points generated in a random way, in a random fashion, no human control applied. New data points are appended to the old large data set recursively. Note, in this case I also keep the cache size unaltered, it is 4 as usual.</h4>"
   ]
  },
  {
   "cell_type": "code",
   "execution_count": 12,
   "metadata": {},
   "outputs": [
    {
     "data": {
      "text/html": [
       "<div>\n",
       "<style scoped>\n",
       "    .dataframe tbody tr th:only-of-type {\n",
       "        vertical-align: middle;\n",
       "    }\n",
       "\n",
       "    .dataframe tbody tr th {\n",
       "        vertical-align: top;\n",
       "    }\n",
       "\n",
       "    .dataframe thead th {\n",
       "        text-align: right;\n",
       "    }\n",
       "</style>\n",
       "<table border=\"1\" class=\"dataframe\">\n",
       "  <thead>\n",
       "    <tr style=\"text-align: right;\">\n",
       "      <th></th>\n",
       "      <th>Memory Memory Hits</th>\n",
       "      <th>LRU Memory Hits</th>\n",
       "      <th>Cyclic Memory Hits</th>\n",
       "      <th>Random Memory Hits</th>\n",
       "    </tr>\n",
       "  </thead>\n",
       "  <tbody>\n",
       "    <tr>\n",
       "      <th>0</th>\n",
       "      <td>9999</td>\n",
       "      <td>4331</td>\n",
       "      <td>4332</td>\n",
       "      <td>4322</td>\n",
       "    </tr>\n",
       "    <tr>\n",
       "      <th>1</th>\n",
       "      <td>19998</td>\n",
       "      <td>8617</td>\n",
       "      <td>8634</td>\n",
       "      <td>8624</td>\n",
       "    </tr>\n",
       "    <tr>\n",
       "      <th>2</th>\n",
       "      <td>29997</td>\n",
       "      <td>12780</td>\n",
       "      <td>12860</td>\n",
       "      <td>12867</td>\n",
       "    </tr>\n",
       "    <tr>\n",
       "      <th>3</th>\n",
       "      <td>39996</td>\n",
       "      <td>17116</td>\n",
       "      <td>17109</td>\n",
       "      <td>17267</td>\n",
       "    </tr>\n",
       "    <tr>\n",
       "      <th>4</th>\n",
       "      <td>49995</td>\n",
       "      <td>21431</td>\n",
       "      <td>21431</td>\n",
       "      <td>21389</td>\n",
       "    </tr>\n",
       "    <tr>\n",
       "      <th>5</th>\n",
       "      <td>59994</td>\n",
       "      <td>25759</td>\n",
       "      <td>25768</td>\n",
       "      <td>25644</td>\n",
       "    </tr>\n",
       "    <tr>\n",
       "      <th>6</th>\n",
       "      <td>69993</td>\n",
       "      <td>30091</td>\n",
       "      <td>30113</td>\n",
       "      <td>30025</td>\n",
       "    </tr>\n",
       "    <tr>\n",
       "      <th>7</th>\n",
       "      <td>79992</td>\n",
       "      <td>34441</td>\n",
       "      <td>34424</td>\n",
       "      <td>34199</td>\n",
       "    </tr>\n",
       "    <tr>\n",
       "      <th>8</th>\n",
       "      <td>89991</td>\n",
       "      <td>38661</td>\n",
       "      <td>38710</td>\n",
       "      <td>38737</td>\n",
       "    </tr>\n",
       "    <tr>\n",
       "      <th>9</th>\n",
       "      <td>99990</td>\n",
       "      <td>43002</td>\n",
       "      <td>43045</td>\n",
       "      <td>43104</td>\n",
       "    </tr>\n",
       "  </tbody>\n",
       "</table>\n",
       "</div>"
      ],
      "text/plain": [
       "  Memory Memory Hits LRU Memory Hits Cyclic Memory Hits Random Memory Hits\n",
       "0               9999            4331               4332               4322\n",
       "1              19998            8617               8634               8624\n",
       "2              29997           12780              12860              12867\n",
       "3              39996           17116              17109              17267\n",
       "4              49995           21431              21431              21389\n",
       "5              59994           25759              25768              25644\n",
       "6              69993           30091              30113              30025\n",
       "7              79992           34441              34424              34199\n",
       "8              89991           38661              38710              38737\n",
       "9              99990           43002              43045              43104"
      ]
     },
     "execution_count": 12,
     "metadata": {},
     "output_type": "execute_result"
    }
   ],
   "source": [
    "# test_data = [1,2,3,1,5,1,6,7,8,1,9,2,3,1]\n",
    "mem = Memory()\n",
    "lru = LRUCache()\n",
    "cyclic = CyclicCache()\n",
    "rdm = RandomCache()\n",
    "mem_results = []\n",
    "lru_results = []\n",
    "cyclic_results = []\n",
    "rdm_results = []\n",
    "test_data = []\n",
    "\n",
    "# New data points are appended to the old large data set recursively.\n",
    "# Note, in this case I also keep the cache size unaltered, it is 4 as usual.\n",
    "df = pd.DataFrame(index=[i for i in range(10)], columns=['Memory Memory Hits','LRU Memory Hits','Cyclic Memory Hits','Random Memory Hits'])\n",
    "for j in range(0,10):\n",
    "    # New data points are appended to the old large data set recursively.\n",
    "    for i in range(0,9999):\n",
    "        # All data points generated in a random way, in a random fashion, no human control applied.\n",
    "        test_data.append(random.randint(0, 6))\n",
    "    process()\n",
    "    df['Memory Memory Hits'][j]=memcount\n",
    "    df['LRU Memory Hits'][j]=lrucount\n",
    "    df['Cyclic Memory Hits'][j]=cycliccount\n",
    "    df['Random Memory Hits'][j]=rdmcount\n",
    "\n",
    "    mem_results.append(results[0])\n",
    "    lru_results.append(results[1])\n",
    "    cyclic_results.append(results[2])\n",
    "    rdm_results.append(results[3])\n",
    "df"
   ]
  },
  {
   "cell_type": "code",
   "execution_count": 13,
   "metadata": {},
   "outputs": [
    {
     "data": {
      "text/plain": [
       "<matplotlib.legend.Legend at 0x7fef52f7cb50>"
      ]
     },
     "execution_count": 13,
     "metadata": {},
     "output_type": "execute_result"
    },
    {
     "data": {
      "image/png": "[encoded data removed]",
      "text/plain": [
       "<Figure size 720x288 with 1 Axes>"
      ]
     },
     "metadata": {
      "needs_background": "light"
     },
     "output_type": "display_data"
    }
   ],
   "source": [
    "# Graphical Representation of these results above.\n",
    "plt.figure('Trends', figsize=(10,4))\n",
    "plt.title(\"Hit Counts' Changes about Different Strategies\")\n",
    "plt.ylabel('Hit Counts')\n",
    "plt.xlabel('Increment in the Number of Unique Data Points j (Originally 4, then 4+j)')\n",
    "plt.plot(lru_results, label='LRU', marker='o',markersize='11')\n",
    "plt.plot(mem_results, label='Memory', marker='o',markersize='11')\n",
    "plt.plot(rdm_results, label='Random', marker='o',markersize='11')\n",
    "plt.plot(cyclic_results, label='Cyclic', marker='o',markersize='11')\n",
    "plt.legend(loc='upper left')"
   ]
  },
  {
   "cell_type": "markdown",
   "metadata": {},
   "source": [
    "<p>Case 4 -- Note:</p>\n",
    "<p>In a generated random data pool, three main memory accessing strategies behave in a closed similar way, the memory strategy(no strategy at all), indicates the total number of data points in this data set. We can see that all three main strategies have their own ways in reducing the memory accesses, so no strategy surpass the other ones as we see in the graph above. But their performances have little difference in terms of memory accessing as you may notice that three lines coincide each other. The line graph just below is a simplified version of the above diagram which only consists of LRU, Random and Cyclic strategies.</p>"
   ]
  },
  {
   "cell_type": "code",
   "execution_count": 14,
   "metadata": {},
   "outputs": [
    {
     "data": {
      "text/plain": [
       "<matplotlib.legend.Legend at 0x7fef52f0b4c0>"
      ]
     },
     "execution_count": 14,
     "metadata": {},
     "output_type": "execute_result"
    },
    {
     "data": {
      "image/png": "[encoded data removed]",
      "text/plain": [
       "<Figure size 720x288 with 1 Axes>"
      ]
     },
     "metadata": {
      "needs_background": "light"
     },
     "output_type": "display_data"
    }
   ],
   "source": [
    "plt.figure('Trends', figsize=(10,4))\n",
    "plt.title(\"Hit Counts' Changes about Different Strategies (LRU,Random,Cyclic)\")\n",
    "plt.ylabel('Hit Counts')\n",
    "plt.xlabel('Increment in the Number of Unique Data Points j (Originally 4, then 4+j)')\n",
    "plt.plot(lru_results, label='LRU', marker='o',markersize='11')\n",
    "plt.plot(rdm_results, label='Random', marker='o',markersize='11')\n",
    "plt.plot(cyclic_results, label='Cyclic', marker='o',markersize='11')\n",
    "plt.legend(loc='upper left')"
   ]
  },
  {
   "cell_type": "markdown",
   "metadata": {},
   "source": [
    "<h4>5. Changed the Cache Size and all data points generated in a random way, in a random fashion. As opposed to the Case 4 above which the Cache Size is fixed to four.</h4>"
   ]
  },
  {
   "cell_type": "code",
   "execution_count": 15,
   "metadata": {},
   "outputs": [
    {
     "name": "stdout",
     "output_type": "stream",
     "text": [
      "Constant: The Data Set used is the same thoughout this experiment. Variable: the Cache Size.\n"
     ]
    },
    {
     "data": {
      "text/html": [
       "<div>\n",
       "<style scoped>\n",
       "    .dataframe tbody tr th:only-of-type {\n",
       "        vertical-align: middle;\n",
       "    }\n",
       "\n",
       "    .dataframe tbody tr th {\n",
       "        vertical-align: top;\n",
       "    }\n",
       "\n",
       "    .dataframe thead th {\n",
       "        text-align: right;\n",
       "    }\n",
       "</style>\n",
       "<table border=\"1\" class=\"dataframe\">\n",
       "  <thead>\n",
       "    <tr style=\"text-align: right;\">\n",
       "      <th></th>\n",
       "      <th>Cache Size</th>\n",
       "      <th>Memory Memory Hits</th>\n",
       "      <th>LRU Memory Hits</th>\n",
       "      <th>Cyclic Memory Hits</th>\n",
       "      <th>Random Memory Hits</th>\n",
       "    </tr>\n",
       "  </thead>\n",
       "  <tbody>\n",
       "    <tr>\n",
       "      <th>0</th>\n",
       "      <td>4</td>\n",
       "      <td>9999</td>\n",
       "      <td>9994</td>\n",
       "      <td>9994</td>\n",
       "      <td>9995</td>\n",
       "    </tr>\n",
       "    <tr>\n",
       "      <th>1</th>\n",
       "      <td>5</td>\n",
       "      <td>9999</td>\n",
       "      <td>9994</td>\n",
       "      <td>9994</td>\n",
       "      <td>9993</td>\n",
       "    </tr>\n",
       "    <tr>\n",
       "      <th>2</th>\n",
       "      <td>6</td>\n",
       "      <td>9999</td>\n",
       "      <td>9993</td>\n",
       "      <td>9994</td>\n",
       "      <td>9993</td>\n",
       "    </tr>\n",
       "    <tr>\n",
       "      <th>3</th>\n",
       "      <td>7</td>\n",
       "      <td>9999</td>\n",
       "      <td>9993</td>\n",
       "      <td>9994</td>\n",
       "      <td>9994</td>\n",
       "    </tr>\n",
       "    <tr>\n",
       "      <th>4</th>\n",
       "      <td>8</td>\n",
       "      <td>9999</td>\n",
       "      <td>9993</td>\n",
       "      <td>9994</td>\n",
       "      <td>9994</td>\n",
       "    </tr>\n",
       "    <tr>\n",
       "      <th>5</th>\n",
       "      <td>9</td>\n",
       "      <td>9999</td>\n",
       "      <td>9993</td>\n",
       "      <td>9994</td>\n",
       "      <td>9990</td>\n",
       "    </tr>\n",
       "    <tr>\n",
       "      <th>6</th>\n",
       "      <td>10</td>\n",
       "      <td>9999</td>\n",
       "      <td>9991</td>\n",
       "      <td>9994</td>\n",
       "      <td>9989</td>\n",
       "    </tr>\n",
       "    <tr>\n",
       "      <th>7</th>\n",
       "      <td>11</td>\n",
       "      <td>9999</td>\n",
       "      <td>9991</td>\n",
       "      <td>9994</td>\n",
       "      <td>9987</td>\n",
       "    </tr>\n",
       "    <tr>\n",
       "      <th>8</th>\n",
       "      <td>12</td>\n",
       "      <td>9999</td>\n",
       "      <td>9987</td>\n",
       "      <td>9994</td>\n",
       "      <td>9989</td>\n",
       "    </tr>\n",
       "    <tr>\n",
       "      <th>9</th>\n",
       "      <td>13</td>\n",
       "      <td>9999</td>\n",
       "      <td>9987</td>\n",
       "      <td>9994</td>\n",
       "      <td>9985</td>\n",
       "    </tr>\n",
       "  </tbody>\n",
       "</table>\n",
       "</div>"
      ],
      "text/plain": [
       "  Cache Size Memory Memory Hits LRU Memory Hits Cyclic Memory Hits  \\\n",
       "0          4               9999            9994               9994   \n",
       "1          5               9999            9994               9994   \n",
       "2          6               9999            9993               9994   \n",
       "3          7               9999            9993               9994   \n",
       "4          8               9999            9993               9994   \n",
       "5          9               9999            9993               9994   \n",
       "6         10               9999            9991               9994   \n",
       "7         11               9999            9991               9994   \n",
       "8         12               9999            9987               9994   \n",
       "9         13               9999            9987               9994   \n",
       "\n",
       "  Random Memory Hits  \n",
       "0               9995  \n",
       "1               9993  \n",
       "2               9993  \n",
       "3               9994  \n",
       "4               9994  \n",
       "5               9990  \n",
       "6               9989  \n",
       "7               9987  \n",
       "8               9989  \n",
       "9               9985  "
      ]
     },
     "execution_count": 15,
     "metadata": {},
     "output_type": "execute_result"
    }
   ],
   "source": [
    "mem = Memory()\n",
    "lru = LRUCache()\n",
    "cyclic = CyclicCache()\n",
    "rdm = RandomCache()\n",
    "mem_results = []\n",
    "lru_results = []\n",
    "cyclic_results = []\n",
    "rdm_results = []\n",
    "test_data = []\n",
    "\n",
    "\n",
    "for i in range(0,9999):\n",
    "    # All data points generated in a random way, in a random fashion, no human control applied.\n",
    "    test_data.append(random.randint(0, 9999))\n",
    "\n",
    "df = pd.DataFrame(index=[i for i in range(10)], columns=['Cache Size','Memory Memory Hits','LRU Memory Hits','Cyclic Memory Hits','Random Memory Hits'])\n",
    "# New data points are appended to the old large data set recursively.\n",
    "for j in range(0,10):\n",
    "    # New data points are appended to the old large data set recursively.\n",
    "    cache_size=4+j\n",
    "    process()\n",
    "    df['Memory Memory Hits'][j]=memcount\n",
    "    df['LRU Memory Hits'][j]=lrucount\n",
    "    df['Cyclic Memory Hits'][j]=cycliccount\n",
    "    df['Random Memory Hits'][j]=rdmcount\n",
    "    df['Cache Size'][j]=cache_size\n",
    "\n",
    "    mem_results.append(results[0])\n",
    "    lru_results.append(results[1])\n",
    "    cyclic_results.append(results[2])\n",
    "    rdm_results.append(results[3])\n",
    "print(\"Constant: The Data Set used is the same thoughout this experiment. Variable: the Cache Size.\")\n",
    "df\n",
    "# Note, in this case I increment the cache size by one each time, from 4 onwards."
   ]
  },
  {
   "cell_type": "code",
   "execution_count": 16,
   "metadata": {},
   "outputs": [
    {
     "data": {
      "text/plain": [
       "<matplotlib.legend.Legend at 0x7fef52edff40>"
      ]
     },
     "execution_count": 16,
     "metadata": {},
     "output_type": "execute_result"
    },
    {
     "data": {
      "image/png": "[encoded data removed]",
      "text/plain": [
       "<Figure size 720x288 with 1 Axes>"
      ]
     },
     "metadata": {
      "needs_background": "light"
     },
     "output_type": "display_data"
    }
   ],
   "source": [
    "# Graphical Representation of these results above.\n",
    "plt.figure('Trends', figsize=(10,4))\n",
    "plt.title(\"Hit Counts' Changes about Different Strategies\")\n",
    "plt.ylabel('Hit Counts')\n",
    "plt.xlabel('Increment of Cache Size k (Originally 4, then 4+k)')\n",
    "plt.plot(lru_results, label='LRU', marker='o',markersize='11')\n",
    "plt.plot(mem_results, label='Memory', marker='o',markersize='11')\n",
    "plt.plot(rdm_results, label='Random', marker='o',markersize='11')\n",
    "plt.plot(cyclic_results, label='Cyclic', marker='o',markersize='11')\n",
    "plt.legend(loc='lower left')"
   ]
  },
  {
   "cell_type": "markdown",
   "metadata": {},
   "source": [
    "<p>Case 5 -- Note:</p>\n",
    "<p>In this case (case 5), I adjusted the cache size from 4 to 13 and generated the line trending graph above. And keep the data set unchanged once it has generated, but the possible number of the unique values is set to 9999, which means the data is much more diverse than case four (case 4) where I set this value to 6.</p>\n",
    "<p>Some general remarks, all three main strategies have an impact in reducing the memory accessing by using a cache but it is quite small, the Cyclic strategy has a constant performance throughout this data set model. The other two, Random and LRU, they have a better performance once the cache size increased, but the effect is quite small as it only reduces the hit counts by a small amount, this is shown in the graph above.</p>"
   ]
  },
  {
   "cell_type": "markdown",
   "metadata": {},
   "source": [
    "## Conclusions"
   ]
  },
  {
   "cell_type": "markdown",
   "metadata": {},
   "source": [
    "<h4>To sum up, LRU, Cyclic and Random strategies all have their own logic to reduce the memory accesses and the way to store values in their cache. (This is reflected in ALL CASES). </h4>\n",
    "\n",
    "<h4>According to the experiments conducted above, when all the values in a data structure are unique and the number of unique values is not exceeds the cache size, for example cache size 4 and data is [0,1,2,3,0,1,2,3,0,1...] or [0,0,1,1,2,2,3,3,0,0...] or [1,1,3,3,0,0,2,2,0,0...], these strategies are all performed in the same way, the memory access is the number of unique values in the dataset.(This is shown in the CASE 1)</h4>\n",
    "\n",
    "<h4>In CASE 2, when all the values in a data structure are unique but the number of unique values exceeds the cache size, for example cache size 4 and data is [0,1,2,3,4,0,1,2,3,4...] or [5,4,3,2,1,0,5,4,3,2,1,0...] or [1,1,2,2,3,3,4,4,1,1,2,2,3,3...], LRU and Cyclic strategies are performed in a same way, as each data point used is only once. But the Random strategy memory is behaved differently, it has advantage in small unique data set but it loses this advantage when the unique data values become large in number.</h4>\n",
    "\n",
    "<h4>In CASE 3, New unique value added just after a cached value used (in LRU case, it is read.) and After this, the Data Points between the second and the new added value are repeated several times. For example: if the cache size is 4, then the data set is like [0,1,2,3,0,4,1,2,3,0,4,1,2,3,0,4,...] (the part of repetition is '1,2,3,0,4' in this case.), the '0' between the '3' and '4' is read before the new value '4' written to the cache. In this case, LRU performance much much worser than Cyclic and Random, because it is restricted in order of memory accessing, using the example above, it needs to throw '1' rather than '0' when a new value '4' in, but the next value is '1', so it needs an additional access to store '1', but it throws '2' which needs next... And finally resulted in a similar fashion as not using cache, that is bad.</h4>\n",
    "\n",
    "<h4>In CASE 4, All data points generated in a random way, and I used different sizes of data sets, keep the cache size 4. The result is not surprising, they are all performed in the same way and used the same number of memory accesses, this might caused by the nature of random data generated.</h4>\n",
    "\n",
    "<h4>In CASE 5, Opposed to CASE 4, I increased the cache size gradually, but keep the data size unchanged, Cyclic strategy keeps almost constant performance throughout, LRU and Random strategies have a very small reduction in memory accesses as cache size increases.</h4>\n",
    "\n",
    "<h4>\n",
    "<ol>\n",
    "<li>To improve the performance of all strategies apart from Random strategy, the new values are better already in cache, and the data points which have the same values are in together, these values are the same so the access only needs once per group. </li>\n",
    "\n",
    "<li>To improve the performance of LRU strategy, the new values are better already in the cache and use the heavy used value first before new unique value in, this means the LRU can keep this heavy used value in the cache.</li>\n",
    "\n",
    "<li>To improve the performance of Cyclic and Random strategies, the new values are better just cached values.</li>\n",
    "</ol>\n",
    "</h4>"
   ]
  }
 ],
 "metadata": {
  "kernelspec": {
   "display_name": "Python 3",
   "language": "python",
   "name": "python3"
  },
  "language_info": {
   "codemirror_mode": {
    "name": "ipython",
    "version": 3
   },
   "file_extension": ".py",
   "mimetype": "text/x-python",
   "name": "python",
   "nbconvert_exporter": "python",
   "pygments_lexer": "ipython3",
   "version": "3.8.5"
  }
 },
 "nbformat": 4,
 "nbformat_minor": 2
}
